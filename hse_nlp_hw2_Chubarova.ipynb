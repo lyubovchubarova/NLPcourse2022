{
  "nbformat": 4,
  "nbformat_minor": 0,
  "metadata": {
    "colab": {
      "provenance": []
    },
    "kernelspec": {
      "name": "python3",
      "display_name": "Python 3"
    },
    "language_info": {
      "name": "python"
    },
    "widgets": {
      "application/vnd.jupyter.widget-state+json": {
        "622aff0d4aba47cdb2a3501b799a1564": {
          "model_module": "@jupyter-widgets/controls",
          "model_name": "HBoxModel",
          "model_module_version": "1.5.0",
          "state": {
            "_dom_classes": [],
            "_model_module": "@jupyter-widgets/controls",
            "_model_module_version": "1.5.0",
            "_model_name": "HBoxModel",
            "_view_count": null,
            "_view_module": "@jupyter-widgets/controls",
            "_view_module_version": "1.5.0",
            "_view_name": "HBoxView",
            "box_style": "",
            "children": [
              "IPY_MODEL_8dca7d41331e4448a607e554da6a438b",
              "IPY_MODEL_b057c2d69d8642069d637efda9d427cf",
              "IPY_MODEL_3c9a5693e107492e8c67cd37ea3b6348"
            ],
            "layout": "IPY_MODEL_2152f1d06ba24e668419409fb460505b"
          }
        },
        "8dca7d41331e4448a607e554da6a438b": {
          "model_module": "@jupyter-widgets/controls",
          "model_name": "HTMLModel",
          "model_module_version": "1.5.0",
          "state": {
            "_dom_classes": [],
            "_model_module": "@jupyter-widgets/controls",
            "_model_module_version": "1.5.0",
            "_model_name": "HTMLModel",
            "_view_count": null,
            "_view_module": "@jupyter-widgets/controls",
            "_view_module_version": "1.5.0",
            "_view_name": "HTMLView",
            "description": "",
            "description_tooltip": null,
            "layout": "IPY_MODEL_da623ab785644f86a97524ae7d2e02f3",
            "placeholder": "​",
            "style": "IPY_MODEL_62a8b5670f6249cc99ed954a1528db24",
            "value": "100%"
          }
        },
        "b057c2d69d8642069d637efda9d427cf": {
          "model_module": "@jupyter-widgets/controls",
          "model_name": "FloatProgressModel",
          "model_module_version": "1.5.0",
          "state": {
            "_dom_classes": [],
            "_model_module": "@jupyter-widgets/controls",
            "_model_module_version": "1.5.0",
            "_model_name": "FloatProgressModel",
            "_view_count": null,
            "_view_module": "@jupyter-widgets/controls",
            "_view_module_version": "1.5.0",
            "_view_name": "ProgressView",
            "bar_style": "success",
            "description": "",
            "description_tooltip": null,
            "layout": "IPY_MODEL_78f60b2c7212456699052a7ceca6e402",
            "max": 12299,
            "min": 0,
            "orientation": "horizontal",
            "style": "IPY_MODEL_c5545eb4257041d09d887488bca39d23",
            "value": 12299
          }
        },
        "3c9a5693e107492e8c67cd37ea3b6348": {
          "model_module": "@jupyter-widgets/controls",
          "model_name": "HTMLModel",
          "model_module_version": "1.5.0",
          "state": {
            "_dom_classes": [],
            "_model_module": "@jupyter-widgets/controls",
            "_model_module_version": "1.5.0",
            "_model_name": "HTMLModel",
            "_view_count": null,
            "_view_module": "@jupyter-widgets/controls",
            "_view_module_version": "1.5.0",
            "_view_name": "HTMLView",
            "description": "",
            "description_tooltip": null,
            "layout": "IPY_MODEL_524f1c99f0c4490ca725fc7156fe5bd2",
            "placeholder": "​",
            "style": "IPY_MODEL_cbd8b26c3bf2408a99766d4f5ba7a5d5",
            "value": " 12299/12299 [01:55&lt;00:00, 95.83it/s]"
          }
        },
        "2152f1d06ba24e668419409fb460505b": {
          "model_module": "@jupyter-widgets/base",
          "model_name": "LayoutModel",
          "model_module_version": "1.2.0",
          "state": {
            "_model_module": "@jupyter-widgets/base",
            "_model_module_version": "1.2.0",
            "_model_name": "LayoutModel",
            "_view_count": null,
            "_view_module": "@jupyter-widgets/base",
            "_view_module_version": "1.2.0",
            "_view_name": "LayoutView",
            "align_content": null,
            "align_items": null,
            "align_self": null,
            "border": null,
            "bottom": null,
            "display": null,
            "flex": null,
            "flex_flow": null,
            "grid_area": null,
            "grid_auto_columns": null,
            "grid_auto_flow": null,
            "grid_auto_rows": null,
            "grid_column": null,
            "grid_gap": null,
            "grid_row": null,
            "grid_template_areas": null,
            "grid_template_columns": null,
            "grid_template_rows": null,
            "height": null,
            "justify_content": null,
            "justify_items": null,
            "left": null,
            "margin": null,
            "max_height": null,
            "max_width": null,
            "min_height": null,
            "min_width": null,
            "object_fit": null,
            "object_position": null,
            "order": null,
            "overflow": null,
            "overflow_x": null,
            "overflow_y": null,
            "padding": null,
            "right": null,
            "top": null,
            "visibility": null,
            "width": null
          }
        },
        "da623ab785644f86a97524ae7d2e02f3": {
          "model_module": "@jupyter-widgets/base",
          "model_name": "LayoutModel",
          "model_module_version": "1.2.0",
          "state": {
            "_model_module": "@jupyter-widgets/base",
            "_model_module_version": "1.2.0",
            "_model_name": "LayoutModel",
            "_view_count": null,
            "_view_module": "@jupyter-widgets/base",
            "_view_module_version": "1.2.0",
            "_view_name": "LayoutView",
            "align_content": null,
            "align_items": null,
            "align_self": null,
            "border": null,
            "bottom": null,
            "display": null,
            "flex": null,
            "flex_flow": null,
            "grid_area": null,
            "grid_auto_columns": null,
            "grid_auto_flow": null,
            "grid_auto_rows": null,
            "grid_column": null,
            "grid_gap": null,
            "grid_row": null,
            "grid_template_areas": null,
            "grid_template_columns": null,
            "grid_template_rows": null,
            "height": null,
            "justify_content": null,
            "justify_items": null,
            "left": null,
            "margin": null,
            "max_height": null,
            "max_width": null,
            "min_height": null,
            "min_width": null,
            "object_fit": null,
            "object_position": null,
            "order": null,
            "overflow": null,
            "overflow_x": null,
            "overflow_y": null,
            "padding": null,
            "right": null,
            "top": null,
            "visibility": null,
            "width": null
          }
        },
        "62a8b5670f6249cc99ed954a1528db24": {
          "model_module": "@jupyter-widgets/controls",
          "model_name": "DescriptionStyleModel",
          "model_module_version": "1.5.0",
          "state": {
            "_model_module": "@jupyter-widgets/controls",
            "_model_module_version": "1.5.0",
            "_model_name": "DescriptionStyleModel",
            "_view_count": null,
            "_view_module": "@jupyter-widgets/base",
            "_view_module_version": "1.2.0",
            "_view_name": "StyleView",
            "description_width": ""
          }
        },
        "78f60b2c7212456699052a7ceca6e402": {
          "model_module": "@jupyter-widgets/base",
          "model_name": "LayoutModel",
          "model_module_version": "1.2.0",
          "state": {
            "_model_module": "@jupyter-widgets/base",
            "_model_module_version": "1.2.0",
            "_model_name": "LayoutModel",
            "_view_count": null,
            "_view_module": "@jupyter-widgets/base",
            "_view_module_version": "1.2.0",
            "_view_name": "LayoutView",
            "align_content": null,
            "align_items": null,
            "align_self": null,
            "border": null,
            "bottom": null,
            "display": null,
            "flex": null,
            "flex_flow": null,
            "grid_area": null,
            "grid_auto_columns": null,
            "grid_auto_flow": null,
            "grid_auto_rows": null,
            "grid_column": null,
            "grid_gap": null,
            "grid_row": null,
            "grid_template_areas": null,
            "grid_template_columns": null,
            "grid_template_rows": null,
            "height": null,
            "justify_content": null,
            "justify_items": null,
            "left": null,
            "margin": null,
            "max_height": null,
            "max_width": null,
            "min_height": null,
            "min_width": null,
            "object_fit": null,
            "object_position": null,
            "order": null,
            "overflow": null,
            "overflow_x": null,
            "overflow_y": null,
            "padding": null,
            "right": null,
            "top": null,
            "visibility": null,
            "width": null
          }
        },
        "c5545eb4257041d09d887488bca39d23": {
          "model_module": "@jupyter-widgets/controls",
          "model_name": "ProgressStyleModel",
          "model_module_version": "1.5.0",
          "state": {
            "_model_module": "@jupyter-widgets/controls",
            "_model_module_version": "1.5.0",
            "_model_name": "ProgressStyleModel",
            "_view_count": null,
            "_view_module": "@jupyter-widgets/base",
            "_view_module_version": "1.2.0",
            "_view_name": "StyleView",
            "bar_color": null,
            "description_width": ""
          }
        },
        "524f1c99f0c4490ca725fc7156fe5bd2": {
          "model_module": "@jupyter-widgets/base",
          "model_name": "LayoutModel",
          "model_module_version": "1.2.0",
          "state": {
            "_model_module": "@jupyter-widgets/base",
            "_model_module_version": "1.2.0",
            "_model_name": "LayoutModel",
            "_view_count": null,
            "_view_module": "@jupyter-widgets/base",
            "_view_module_version": "1.2.0",
            "_view_name": "LayoutView",
            "align_content": null,
            "align_items": null,
            "align_self": null,
            "border": null,
            "bottom": null,
            "display": null,
            "flex": null,
            "flex_flow": null,
            "grid_area": null,
            "grid_auto_columns": null,
            "grid_auto_flow": null,
            "grid_auto_rows": null,
            "grid_column": null,
            "grid_gap": null,
            "grid_row": null,
            "grid_template_areas": null,
            "grid_template_columns": null,
            "grid_template_rows": null,
            "height": null,
            "justify_content": null,
            "justify_items": null,
            "left": null,
            "margin": null,
            "max_height": null,
            "max_width": null,
            "min_height": null,
            "min_width": null,
            "object_fit": null,
            "object_position": null,
            "order": null,
            "overflow": null,
            "overflow_x": null,
            "overflow_y": null,
            "padding": null,
            "right": null,
            "top": null,
            "visibility": null,
            "width": null
          }
        },
        "cbd8b26c3bf2408a99766d4f5ba7a5d5": {
          "model_module": "@jupyter-widgets/controls",
          "model_name": "DescriptionStyleModel",
          "model_module_version": "1.5.0",
          "state": {
            "_model_module": "@jupyter-widgets/controls",
            "_model_module_version": "1.5.0",
            "_model_name": "DescriptionStyleModel",
            "_view_count": null,
            "_view_module": "@jupyter-widgets/base",
            "_view_module_version": "1.2.0",
            "_view_name": "StyleView",
            "description_width": ""
          }
        }
      }
    }
  },
  "cells": [
    {
      "cell_type": "markdown",
      "source": [
        "### Получение данных"
      ],
      "metadata": {
        "id": "ybXDapZCAely"
      }
    },
    {
      "cell_type": "markdown",
      "source": [
        "Я взяла категорию Luxury_Beauty, потому что в All_beauty попадались отзывы про фильмы и книги - более узкая категория должна проходить более строгую фильтрацию"
      ],
      "metadata": {
        "id": "Awz1eTvEwf4p"
      }
    },
    {
      "cell_type": "code",
      "execution_count": 1,
      "metadata": {
        "colab": {
          "base_uri": "https://localhost:8080/"
        },
        "id": "jybvc_sY26iC",
        "outputId": "733084ed-951d-4956-bba5-e7c04111e7aa"
      },
      "outputs": [
        {
          "output_type": "stream",
          "name": "stdout",
          "text": [
            "--2022-12-13 10:50:01--  https://jmcauley.ucsd.edu/data/amazon_v2/categoryFilesSmall/Luxury_Beauty_5.json.gz\n",
            "Resolving jmcauley.ucsd.edu (jmcauley.ucsd.edu)... 137.110.160.73\n",
            "Connecting to jmcauley.ucsd.edu (jmcauley.ucsd.edu)|137.110.160.73|:443... connected.\n",
            "WARNING: cannot verify jmcauley.ucsd.edu's certificate, issued by ‘CN=InCommon RSA Server CA,OU=InCommon,O=Internet2,L=Ann Arbor,ST=MI,C=US’:\n",
            "  Unable to locally verify the issuer's authority.\n",
            "HTTP request sent, awaiting response... 200 OK\n",
            "Length: 7356868 (7.0M) [application/x-gzip]\n",
            "Saving to: ‘Luxury_Beauty_5.json.gz’\n",
            "\n",
            "Luxury_Beauty_5.jso 100%[===================>]   7.02M  11.7MB/s    in 0.6s    \n",
            "\n",
            "2022-12-13 10:50:02 (11.7 MB/s) - ‘Luxury_Beauty_5.json.gz’ saved [7356868/7356868]\n",
            "\n"
          ]
        }
      ],
      "source": [
        "!wget --no-check-certificate https://jmcauley.ucsd.edu/data/amazon_v2/categoryFilesSmall/Luxury_Beauty_5.json.gz"
      ]
    },
    {
      "cell_type": "code",
      "source": [
        "import pandas as pd\n",
        "\n",
        "df = pd.read_json('Luxury_Beauty_5.json.gz', lines=True, compression='gzip')\n",
        "df.head()"
      ],
      "metadata": {
        "colab": {
          "base_uri": "https://localhost:8080/",
          "height": 337
        },
        "id": "ax-iTnTMCCLT",
        "outputId": "357a7e71-5dc6-4613-827e-a561e3431870"
      },
      "execution_count": 3,
      "outputs": [
        {
          "output_type": "execute_result",
          "data": {
            "text/plain": [
              "   overall  verified   reviewTime      reviewerID        asin  \\\n",
              "0        5      True   01 5, 2018  A2HOI48JK8838M  B00004U9V2   \n",
              "1        5      True   04 5, 2017  A1YIPEY7HX73S7  B00004U9V2   \n",
              "2        5      True  03 27, 2017  A2QCGHIJ2TCLVP  B00004U9V2   \n",
              "3        5      True  03 20, 2017  A2R4UNHFJBA6PY  B00004U9V2   \n",
              "4        5      True  02 28, 2017  A2QCGHIJ2TCLVP  B00004U9V2   \n",
              "\n",
              "                   style     reviewerName  \\\n",
              "0  {'Size:': ' 0.9 oz.'}               DB   \n",
              "1  {'Size:': ' 3.5 oz.'}            Ajaey   \n",
              "2    {'Size:': ' 250 g'}         D. Jones   \n",
              "3  {'Size:': ' 3.5 oz.'}  Amazon Customer   \n",
              "4  {'Size:': ' 0.9 oz.'}         D. Jones   \n",
              "\n",
              "                                          reviewText                 summary  \\\n",
              "0  This handcream has a beautiful fragrance. It d...     Beautiful Fragrance   \n",
              "1  wonderful hand lotion, for seriously dry skin,...   wonderful hand lotion   \n",
              "2  Best hand cream around.  Silky, thick, soaks i...  Best hand cream around   \n",
              "3                                           Thanks!!              Five Stars   \n",
              "4  Great hand lotion.  Soaks right in and leaves ...      Great hand lotion!   \n",
              "\n",
              "   unixReviewTime  vote image  \n",
              "0      1515110400   NaN   NaN  \n",
              "1      1491350400   NaN   NaN  \n",
              "2      1490572800   NaN   NaN  \n",
              "3      1489968000   NaN   NaN  \n",
              "4      1488240000   NaN   NaN  "
            ],
            "text/html": [
              "\n",
              "  <div id=\"df-4f02d63c-b719-4cd3-87af-d8237a33324b\">\n",
              "    <div class=\"colab-df-container\">\n",
              "      <div>\n",
              "<style scoped>\n",
              "    .dataframe tbody tr th:only-of-type {\n",
              "        vertical-align: middle;\n",
              "    }\n",
              "\n",
              "    .dataframe tbody tr th {\n",
              "        vertical-align: top;\n",
              "    }\n",
              "\n",
              "    .dataframe thead th {\n",
              "        text-align: right;\n",
              "    }\n",
              "</style>\n",
              "<table border=\"1\" class=\"dataframe\">\n",
              "  <thead>\n",
              "    <tr style=\"text-align: right;\">\n",
              "      <th></th>\n",
              "      <th>overall</th>\n",
              "      <th>verified</th>\n",
              "      <th>reviewTime</th>\n",
              "      <th>reviewerID</th>\n",
              "      <th>asin</th>\n",
              "      <th>style</th>\n",
              "      <th>reviewerName</th>\n",
              "      <th>reviewText</th>\n",
              "      <th>summary</th>\n",
              "      <th>unixReviewTime</th>\n",
              "      <th>vote</th>\n",
              "      <th>image</th>\n",
              "    </tr>\n",
              "  </thead>\n",
              "  <tbody>\n",
              "    <tr>\n",
              "      <th>0</th>\n",
              "      <td>5</td>\n",
              "      <td>True</td>\n",
              "      <td>01 5, 2018</td>\n",
              "      <td>A2HOI48JK8838M</td>\n",
              "      <td>B00004U9V2</td>\n",
              "      <td>{'Size:': ' 0.9 oz.'}</td>\n",
              "      <td>DB</td>\n",
              "      <td>This handcream has a beautiful fragrance. It d...</td>\n",
              "      <td>Beautiful Fragrance</td>\n",
              "      <td>1515110400</td>\n",
              "      <td>NaN</td>\n",
              "      <td>NaN</td>\n",
              "    </tr>\n",
              "    <tr>\n",
              "      <th>1</th>\n",
              "      <td>5</td>\n",
              "      <td>True</td>\n",
              "      <td>04 5, 2017</td>\n",
              "      <td>A1YIPEY7HX73S7</td>\n",
              "      <td>B00004U9V2</td>\n",
              "      <td>{'Size:': ' 3.5 oz.'}</td>\n",
              "      <td>Ajaey</td>\n",
              "      <td>wonderful hand lotion, for seriously dry skin,...</td>\n",
              "      <td>wonderful hand lotion</td>\n",
              "      <td>1491350400</td>\n",
              "      <td>NaN</td>\n",
              "      <td>NaN</td>\n",
              "    </tr>\n",
              "    <tr>\n",
              "      <th>2</th>\n",
              "      <td>5</td>\n",
              "      <td>True</td>\n",
              "      <td>03 27, 2017</td>\n",
              "      <td>A2QCGHIJ2TCLVP</td>\n",
              "      <td>B00004U9V2</td>\n",
              "      <td>{'Size:': ' 250 g'}</td>\n",
              "      <td>D. Jones</td>\n",
              "      <td>Best hand cream around.  Silky, thick, soaks i...</td>\n",
              "      <td>Best hand cream around</td>\n",
              "      <td>1490572800</td>\n",
              "      <td>NaN</td>\n",
              "      <td>NaN</td>\n",
              "    </tr>\n",
              "    <tr>\n",
              "      <th>3</th>\n",
              "      <td>5</td>\n",
              "      <td>True</td>\n",
              "      <td>03 20, 2017</td>\n",
              "      <td>A2R4UNHFJBA6PY</td>\n",
              "      <td>B00004U9V2</td>\n",
              "      <td>{'Size:': ' 3.5 oz.'}</td>\n",
              "      <td>Amazon Customer</td>\n",
              "      <td>Thanks!!</td>\n",
              "      <td>Five Stars</td>\n",
              "      <td>1489968000</td>\n",
              "      <td>NaN</td>\n",
              "      <td>NaN</td>\n",
              "    </tr>\n",
              "    <tr>\n",
              "      <th>4</th>\n",
              "      <td>5</td>\n",
              "      <td>True</td>\n",
              "      <td>02 28, 2017</td>\n",
              "      <td>A2QCGHIJ2TCLVP</td>\n",
              "      <td>B00004U9V2</td>\n",
              "      <td>{'Size:': ' 0.9 oz.'}</td>\n",
              "      <td>D. Jones</td>\n",
              "      <td>Great hand lotion.  Soaks right in and leaves ...</td>\n",
              "      <td>Great hand lotion!</td>\n",
              "      <td>1488240000</td>\n",
              "      <td>NaN</td>\n",
              "      <td>NaN</td>\n",
              "    </tr>\n",
              "  </tbody>\n",
              "</table>\n",
              "</div>\n",
              "      <button class=\"colab-df-convert\" onclick=\"convertToInteractive('df-4f02d63c-b719-4cd3-87af-d8237a33324b')\"\n",
              "              title=\"Convert this dataframe to an interactive table.\"\n",
              "              style=\"display:none;\">\n",
              "        \n",
              "  <svg xmlns=\"http://www.w3.org/2000/svg\" height=\"24px\"viewBox=\"0 0 24 24\"\n",
              "       width=\"24px\">\n",
              "    <path d=\"M0 0h24v24H0V0z\" fill=\"none\"/>\n",
              "    <path d=\"M18.56 5.44l.94 2.06.94-2.06 2.06-.94-2.06-.94-.94-2.06-.94 2.06-2.06.94zm-11 1L8.5 8.5l.94-2.06 2.06-.94-2.06-.94L8.5 2.5l-.94 2.06-2.06.94zm10 10l.94 2.06.94-2.06 2.06-.94-2.06-.94-.94-2.06-.94 2.06-2.06.94z\"/><path d=\"M17.41 7.96l-1.37-1.37c-.4-.4-.92-.59-1.43-.59-.52 0-1.04.2-1.43.59L10.3 9.45l-7.72 7.72c-.78.78-.78 2.05 0 2.83L4 21.41c.39.39.9.59 1.41.59.51 0 1.02-.2 1.41-.59l7.78-7.78 2.81-2.81c.8-.78.8-2.07 0-2.86zM5.41 20L4 18.59l7.72-7.72 1.47 1.35L5.41 20z\"/>\n",
              "  </svg>\n",
              "      </button>\n",
              "      \n",
              "  <style>\n",
              "    .colab-df-container {\n",
              "      display:flex;\n",
              "      flex-wrap:wrap;\n",
              "      gap: 12px;\n",
              "    }\n",
              "\n",
              "    .colab-df-convert {\n",
              "      background-color: #E8F0FE;\n",
              "      border: none;\n",
              "      border-radius: 50%;\n",
              "      cursor: pointer;\n",
              "      display: none;\n",
              "      fill: #1967D2;\n",
              "      height: 32px;\n",
              "      padding: 0 0 0 0;\n",
              "      width: 32px;\n",
              "    }\n",
              "\n",
              "    .colab-df-convert:hover {\n",
              "      background-color: #E2EBFA;\n",
              "      box-shadow: 0px 1px 2px rgba(60, 64, 67, 0.3), 0px 1px 3px 1px rgba(60, 64, 67, 0.15);\n",
              "      fill: #174EA6;\n",
              "    }\n",
              "\n",
              "    [theme=dark] .colab-df-convert {\n",
              "      background-color: #3B4455;\n",
              "      fill: #D2E3FC;\n",
              "    }\n",
              "\n",
              "    [theme=dark] .colab-df-convert:hover {\n",
              "      background-color: #434B5C;\n",
              "      box-shadow: 0px 1px 3px 1px rgba(0, 0, 0, 0.15);\n",
              "      filter: drop-shadow(0px 1px 2px rgba(0, 0, 0, 0.3));\n",
              "      fill: #FFFFFF;\n",
              "    }\n",
              "  </style>\n",
              "\n",
              "      <script>\n",
              "        const buttonEl =\n",
              "          document.querySelector('#df-4f02d63c-b719-4cd3-87af-d8237a33324b button.colab-df-convert');\n",
              "        buttonEl.style.display =\n",
              "          google.colab.kernel.accessAllowed ? 'block' : 'none';\n",
              "\n",
              "        async function convertToInteractive(key) {\n",
              "          const element = document.querySelector('#df-4f02d63c-b719-4cd3-87af-d8237a33324b');\n",
              "          const dataTable =\n",
              "            await google.colab.kernel.invokeFunction('convertToInteractive',\n",
              "                                                     [key], {});\n",
              "          if (!dataTable) return;\n",
              "\n",
              "          const docLinkHtml = 'Like what you see? Visit the ' +\n",
              "            '<a target=\"_blank\" href=https://colab.research.google.com/notebooks/data_table.ipynb>data table notebook</a>'\n",
              "            + ' to learn more about interactive tables.';\n",
              "          element.innerHTML = '';\n",
              "          dataTable['output_type'] = 'display_data';\n",
              "          await google.colab.output.renderOutput(dataTable, element);\n",
              "          const docLink = document.createElement('div');\n",
              "          docLink.innerHTML = docLinkHtml;\n",
              "          element.appendChild(docLink);\n",
              "        }\n",
              "      </script>\n",
              "    </div>\n",
              "  </div>\n",
              "  "
            ]
          },
          "metadata": {},
          "execution_count": 3
        }
      ]
    },
    {
      "cell_type": "code",
      "source": [
        "df.shape"
      ],
      "metadata": {
        "colab": {
          "base_uri": "https://localhost:8080/"
        },
        "id": "Q7B8bYN5vWy3",
        "outputId": "7462d743-4f10-447e-eed8-648030ed6abc"
      },
      "execution_count": 4,
      "outputs": [
        {
          "output_type": "execute_result",
          "data": {
            "text/plain": [
              "(34278, 12)"
            ]
          },
          "metadata": {},
          "execution_count": 4
        }
      ]
    },
    {
      "cell_type": "markdown",
      "source": [
        "В файле собраны просто отзывы на товары, но есть еще и метаданные"
      ],
      "metadata": {
        "id": "9MamHzy0Ed1B"
      }
    },
    {
      "cell_type": "code",
      "source": [
        "!wget --no-check-certificate https://jmcauley.ucsd.edu/data/amazon_v2/metaFiles2/meta_Luxury_Beauty.json.gz"
      ],
      "metadata": {
        "colab": {
          "base_uri": "https://localhost:8080/"
        },
        "id": "C69FR6XuE9pd",
        "outputId": "53d6ca66-31ef-4196-db66-981f5b27ae26"
      },
      "execution_count": 5,
      "outputs": [
        {
          "output_type": "stream",
          "name": "stdout",
          "text": [
            "--2022-12-13 10:50:25--  https://jmcauley.ucsd.edu/data/amazon_v2/metaFiles2/meta_Luxury_Beauty.json.gz\n",
            "Resolving jmcauley.ucsd.edu (jmcauley.ucsd.edu)... 137.110.160.73\n",
            "Connecting to jmcauley.ucsd.edu (jmcauley.ucsd.edu)|137.110.160.73|:443... connected.\n",
            "WARNING: cannot verify jmcauley.ucsd.edu's certificate, issued by ‘CN=InCommon RSA Server CA,OU=InCommon,O=Internet2,L=Ann Arbor,ST=MI,C=US’:\n",
            "  Unable to locally verify the issuer's authority.\n",
            "HTTP request sent, awaiting response... 200 OK\n",
            "Length: 7608964 (7.3M) [application/x-gzip]\n",
            "Saving to: ‘meta_Luxury_Beauty.json.gz’\n",
            "\n",
            "meta_Luxury_Beauty. 100%[===================>]   7.26M  12.4MB/s    in 0.6s    \n",
            "\n",
            "2022-12-13 10:50:26 (12.4 MB/s) - ‘meta_Luxury_Beauty.json.gz’ saved [7608964/7608964]\n",
            "\n"
          ]
        }
      ]
    },
    {
      "cell_type": "code",
      "source": [
        "meta = pd.read_json('meta_Luxury_Beauty.json.gz', lines=True, compression='gzip')\n",
        "meta.head()"
      ],
      "metadata": {
        "colab": {
          "base_uri": "https://localhost:8080/",
          "height": 687
        },
        "id": "qPq3q6qYufV7",
        "outputId": "8a364e93-5a37-47c0-be73-156bccaca850"
      },
      "execution_count": 6,
      "outputs": [
        {
          "output_type": "execute_result",
          "data": {
            "text/plain": [
              "  category tech1                                        description fit  \\\n",
              "0       []        [After a long day of handling thorny situation...       \n",
              "1       []        [If you haven't experienced the pleasures of b...       \n",
              "2       []        [Rich, black mineral mud, harvested from the b...       \n",
              "3       []        [This liquid soap with convenient pump dispens...       \n",
              "4       []        [Remember why you love your favorite blanket? ...       \n",
              "\n",
              "                                               title  \\\n",
              "0  Crabtree &amp; Evelyn - Gardener's Ultra-Moist...   \n",
              "1                                   AHAVA Bath Salts   \n",
              "2      AHAVA Dead Sea Mineral Mud, 8.5 oz, Pack of 4   \n",
              "3  Crabtree &amp; Evelyn Hand Soap, Gardeners, 10...   \n",
              "4                                 Soy Milk Hand Crme   \n",
              "\n",
              "                                            also_buy tech2 brand feature  \\\n",
              "0  [B00GHX7H0A, B00FRERO7G, B00R68QXCS, B000Z65AZ...                  []   \n",
              "1                                                 []                  []   \n",
              "2                                                 []                  []   \n",
              "3                                                 []                  []   \n",
              "4  [B000NZT6KM, B001BY229Q, B008J724QY, B0009YGKJ...                  []   \n",
              "\n",
              "                                        rank  \\\n",
              "0          4,324 in Beauty & Personal Care (   \n",
              "1      1,633,549 in Beauty & Personal Care (   \n",
              "2  1,806,710 in Beauty &amp; Personal Care (   \n",
              "3                                         []   \n",
              "4     42,464 in Beauty &amp; Personal Care (   \n",
              "\n",
              "                                           also_view  \\\n",
              "0  [B00FRERO7G, B00GHX7H0A, B07GFHJRMX, B00TJ3NBN...   \n",
              "1                                                 []   \n",
              "2                                                 []   \n",
              "3  [B00004U9V2, B00GHX7H0A, B00FRERO7G, B00R68QXC...   \n",
              "4                                                 []   \n",
              "\n",
              "                                             details       main_cat  \\\n",
              "0  {'\n",
              "    Product Dimensions: \n",
              "    ': '2.2 x 2.2 ...  Luxury Beauty   \n",
              "1  {'\n",
              "    Product Dimensions: \n",
              "    ': '3 x 3.5 x ...  Luxury Beauty   \n",
              "2  {'\n",
              "    Product Dimensions: \n",
              "    ': '5.1 x 3 x ...  Luxury Beauty   \n",
              "3  {'\n",
              "    Product Dimensions: \n",
              "    ': '2.6 x 2.6 ...  Luxury Beauty   \n",
              "4  {'\n",
              "    Product Dimensions: \n",
              "    ': '7.2 x 2.2 ...  Luxury Beauty   \n",
              "\n",
              "  similar_item date   price        asin  \\\n",
              "0               NaT  $30.00  B00004U9V2   \n",
              "1               NaT          B0000531EN   \n",
              "2               NaT          B0000532JH   \n",
              "3               NaT  $15.99  B00005A77F   \n",
              "4               NaT  $18.00  B00005NDTD   \n",
              "\n",
              "                                            imageURL  \\\n",
              "0  [https://images-na.ssl-images-amazon.com/image...   \n",
              "1                                                 []   \n",
              "2  [https://images-na.ssl-images-amazon.com/image...   \n",
              "3  [https://images-na.ssl-images-amazon.com/image...   \n",
              "4  [https://images-na.ssl-images-amazon.com/image...   \n",
              "\n",
              "                                     imageURLHighRes  \n",
              "0  [https://images-na.ssl-images-amazon.com/image...  \n",
              "1                                                 []  \n",
              "2  [https://images-na.ssl-images-amazon.com/image...  \n",
              "3  [https://images-na.ssl-images-amazon.com/image...  \n",
              "4  [https://images-na.ssl-images-amazon.com/image...  "
            ],
            "text/html": [
              "\n",
              "  <div id=\"df-ca9e22e5-477f-4ef2-a546-667f63be17ca\">\n",
              "    <div class=\"colab-df-container\">\n",
              "      <div>\n",
              "<style scoped>\n",
              "    .dataframe tbody tr th:only-of-type {\n",
              "        vertical-align: middle;\n",
              "    }\n",
              "\n",
              "    .dataframe tbody tr th {\n",
              "        vertical-align: top;\n",
              "    }\n",
              "\n",
              "    .dataframe thead th {\n",
              "        text-align: right;\n",
              "    }\n",
              "</style>\n",
              "<table border=\"1\" class=\"dataframe\">\n",
              "  <thead>\n",
              "    <tr style=\"text-align: right;\">\n",
              "      <th></th>\n",
              "      <th>category</th>\n",
              "      <th>tech1</th>\n",
              "      <th>description</th>\n",
              "      <th>fit</th>\n",
              "      <th>title</th>\n",
              "      <th>also_buy</th>\n",
              "      <th>tech2</th>\n",
              "      <th>brand</th>\n",
              "      <th>feature</th>\n",
              "      <th>rank</th>\n",
              "      <th>also_view</th>\n",
              "      <th>details</th>\n",
              "      <th>main_cat</th>\n",
              "      <th>similar_item</th>\n",
              "      <th>date</th>\n",
              "      <th>price</th>\n",
              "      <th>asin</th>\n",
              "      <th>imageURL</th>\n",
              "      <th>imageURLHighRes</th>\n",
              "    </tr>\n",
              "  </thead>\n",
              "  <tbody>\n",
              "    <tr>\n",
              "      <th>0</th>\n",
              "      <td>[]</td>\n",
              "      <td></td>\n",
              "      <td>[After a long day of handling thorny situation...</td>\n",
              "      <td></td>\n",
              "      <td>Crabtree &amp;amp; Evelyn - Gardener's Ultra-Moist...</td>\n",
              "      <td>[B00GHX7H0A, B00FRERO7G, B00R68QXCS, B000Z65AZ...</td>\n",
              "      <td></td>\n",
              "      <td></td>\n",
              "      <td>[]</td>\n",
              "      <td>4,324 in Beauty &amp; Personal Care (</td>\n",
              "      <td>[B00FRERO7G, B00GHX7H0A, B07GFHJRMX, B00TJ3NBN...</td>\n",
              "      <td>{'\n",
              "    Product Dimensions: \n",
              "    ': '2.2 x 2.2 ...</td>\n",
              "      <td>Luxury Beauty</td>\n",
              "      <td></td>\n",
              "      <td>NaT</td>\n",
              "      <td>$30.00</td>\n",
              "      <td>B00004U9V2</td>\n",
              "      <td>[https://images-na.ssl-images-amazon.com/image...</td>\n",
              "      <td>[https://images-na.ssl-images-amazon.com/image...</td>\n",
              "    </tr>\n",
              "    <tr>\n",
              "      <th>1</th>\n",
              "      <td>[]</td>\n",
              "      <td></td>\n",
              "      <td>[If you haven't experienced the pleasures of b...</td>\n",
              "      <td></td>\n",
              "      <td>AHAVA Bath Salts</td>\n",
              "      <td>[]</td>\n",
              "      <td></td>\n",
              "      <td></td>\n",
              "      <td>[]</td>\n",
              "      <td>1,633,549 in Beauty &amp; Personal Care (</td>\n",
              "      <td>[]</td>\n",
              "      <td>{'\n",
              "    Product Dimensions: \n",
              "    ': '3 x 3.5 x ...</td>\n",
              "      <td>Luxury Beauty</td>\n",
              "      <td></td>\n",
              "      <td>NaT</td>\n",
              "      <td></td>\n",
              "      <td>B0000531EN</td>\n",
              "      <td>[]</td>\n",
              "      <td>[]</td>\n",
              "    </tr>\n",
              "    <tr>\n",
              "      <th>2</th>\n",
              "      <td>[]</td>\n",
              "      <td></td>\n",
              "      <td>[Rich, black mineral mud, harvested from the b...</td>\n",
              "      <td></td>\n",
              "      <td>AHAVA Dead Sea Mineral Mud, 8.5 oz, Pack of 4</td>\n",
              "      <td>[]</td>\n",
              "      <td></td>\n",
              "      <td></td>\n",
              "      <td>[]</td>\n",
              "      <td>1,806,710 in Beauty &amp;amp; Personal Care (</td>\n",
              "      <td>[]</td>\n",
              "      <td>{'\n",
              "    Product Dimensions: \n",
              "    ': '5.1 x 3 x ...</td>\n",
              "      <td>Luxury Beauty</td>\n",
              "      <td></td>\n",
              "      <td>NaT</td>\n",
              "      <td></td>\n",
              "      <td>B0000532JH</td>\n",
              "      <td>[https://images-na.ssl-images-amazon.com/image...</td>\n",
              "      <td>[https://images-na.ssl-images-amazon.com/image...</td>\n",
              "    </tr>\n",
              "    <tr>\n",
              "      <th>3</th>\n",
              "      <td>[]</td>\n",
              "      <td></td>\n",
              "      <td>[This liquid soap with convenient pump dispens...</td>\n",
              "      <td></td>\n",
              "      <td>Crabtree &amp;amp; Evelyn Hand Soap, Gardeners, 10...</td>\n",
              "      <td>[]</td>\n",
              "      <td></td>\n",
              "      <td></td>\n",
              "      <td>[]</td>\n",
              "      <td>[]</td>\n",
              "      <td>[B00004U9V2, B00GHX7H0A, B00FRERO7G, B00R68QXC...</td>\n",
              "      <td>{'\n",
              "    Product Dimensions: \n",
              "    ': '2.6 x 2.6 ...</td>\n",
              "      <td>Luxury Beauty</td>\n",
              "      <td></td>\n",
              "      <td>NaT</td>\n",
              "      <td>$15.99</td>\n",
              "      <td>B00005A77F</td>\n",
              "      <td>[https://images-na.ssl-images-amazon.com/image...</td>\n",
              "      <td>[https://images-na.ssl-images-amazon.com/image...</td>\n",
              "    </tr>\n",
              "    <tr>\n",
              "      <th>4</th>\n",
              "      <td>[]</td>\n",
              "      <td></td>\n",
              "      <td>[Remember why you love your favorite blanket? ...</td>\n",
              "      <td></td>\n",
              "      <td>Soy Milk Hand Crme</td>\n",
              "      <td>[B000NZT6KM, B001BY229Q, B008J724QY, B0009YGKJ...</td>\n",
              "      <td></td>\n",
              "      <td></td>\n",
              "      <td>[]</td>\n",
              "      <td>42,464 in Beauty &amp;amp; Personal Care (</td>\n",
              "      <td>[]</td>\n",
              "      <td>{'\n",
              "    Product Dimensions: \n",
              "    ': '7.2 x 2.2 ...</td>\n",
              "      <td>Luxury Beauty</td>\n",
              "      <td></td>\n",
              "      <td>NaT</td>\n",
              "      <td>$18.00</td>\n",
              "      <td>B00005NDTD</td>\n",
              "      <td>[https://images-na.ssl-images-amazon.com/image...</td>\n",
              "      <td>[https://images-na.ssl-images-amazon.com/image...</td>\n",
              "    </tr>\n",
              "  </tbody>\n",
              "</table>\n",
              "</div>\n",
              "      <button class=\"colab-df-convert\" onclick=\"convertToInteractive('df-ca9e22e5-477f-4ef2-a546-667f63be17ca')\"\n",
              "              title=\"Convert this dataframe to an interactive table.\"\n",
              "              style=\"display:none;\">\n",
              "        \n",
              "  <svg xmlns=\"http://www.w3.org/2000/svg\" height=\"24px\"viewBox=\"0 0 24 24\"\n",
              "       width=\"24px\">\n",
              "    <path d=\"M0 0h24v24H0V0z\" fill=\"none\"/>\n",
              "    <path d=\"M18.56 5.44l.94 2.06.94-2.06 2.06-.94-2.06-.94-.94-2.06-.94 2.06-2.06.94zm-11 1L8.5 8.5l.94-2.06 2.06-.94-2.06-.94L8.5 2.5l-.94 2.06-2.06.94zm10 10l.94 2.06.94-2.06 2.06-.94-2.06-.94-.94-2.06-.94 2.06-2.06.94z\"/><path d=\"M17.41 7.96l-1.37-1.37c-.4-.4-.92-.59-1.43-.59-.52 0-1.04.2-1.43.59L10.3 9.45l-7.72 7.72c-.78.78-.78 2.05 0 2.83L4 21.41c.39.39.9.59 1.41.59.51 0 1.02-.2 1.41-.59l7.78-7.78 2.81-2.81c.8-.78.8-2.07 0-2.86zM5.41 20L4 18.59l7.72-7.72 1.47 1.35L5.41 20z\"/>\n",
              "  </svg>\n",
              "      </button>\n",
              "      \n",
              "  <style>\n",
              "    .colab-df-container {\n",
              "      display:flex;\n",
              "      flex-wrap:wrap;\n",
              "      gap: 12px;\n",
              "    }\n",
              "\n",
              "    .colab-df-convert {\n",
              "      background-color: #E8F0FE;\n",
              "      border: none;\n",
              "      border-radius: 50%;\n",
              "      cursor: pointer;\n",
              "      display: none;\n",
              "      fill: #1967D2;\n",
              "      height: 32px;\n",
              "      padding: 0 0 0 0;\n",
              "      width: 32px;\n",
              "    }\n",
              "\n",
              "    .colab-df-convert:hover {\n",
              "      background-color: #E2EBFA;\n",
              "      box-shadow: 0px 1px 2px rgba(60, 64, 67, 0.3), 0px 1px 3px 1px rgba(60, 64, 67, 0.15);\n",
              "      fill: #174EA6;\n",
              "    }\n",
              "\n",
              "    [theme=dark] .colab-df-convert {\n",
              "      background-color: #3B4455;\n",
              "      fill: #D2E3FC;\n",
              "    }\n",
              "\n",
              "    [theme=dark] .colab-df-convert:hover {\n",
              "      background-color: #434B5C;\n",
              "      box-shadow: 0px 1px 3px 1px rgba(0, 0, 0, 0.15);\n",
              "      filter: drop-shadow(0px 1px 2px rgba(0, 0, 0, 0.3));\n",
              "      fill: #FFFFFF;\n",
              "    }\n",
              "  </style>\n",
              "\n",
              "      <script>\n",
              "        const buttonEl =\n",
              "          document.querySelector('#df-ca9e22e5-477f-4ef2-a546-667f63be17ca button.colab-df-convert');\n",
              "        buttonEl.style.display =\n",
              "          google.colab.kernel.accessAllowed ? 'block' : 'none';\n",
              "\n",
              "        async function convertToInteractive(key) {\n",
              "          const element = document.querySelector('#df-ca9e22e5-477f-4ef2-a546-667f63be17ca');\n",
              "          const dataTable =\n",
              "            await google.colab.kernel.invokeFunction('convertToInteractive',\n",
              "                                                     [key], {});\n",
              "          if (!dataTable) return;\n",
              "\n",
              "          const docLinkHtml = 'Like what you see? Visit the ' +\n",
              "            '<a target=\"_blank\" href=https://colab.research.google.com/notebooks/data_table.ipynb>data table notebook</a>'\n",
              "            + ' to learn more about interactive tables.';\n",
              "          element.innerHTML = '';\n",
              "          dataTable['output_type'] = 'display_data';\n",
              "          await google.colab.output.renderOutput(dataTable, element);\n",
              "          const docLink = document.createElement('div');\n",
              "          docLink.innerHTML = docLinkHtml;\n",
              "          element.appendChild(docLink);\n",
              "        }\n",
              "      </script>\n",
              "    </div>\n",
              "  </div>\n",
              "  "
            ]
          },
          "metadata": {},
          "execution_count": 6
        }
      ]
    },
    {
      "cell_type": "code",
      "source": [
        "meta.category = meta.category.apply(lambda y: 0 if len(y)==0 else y)\n",
        "meta.category.unique()"
      ],
      "metadata": {
        "colab": {
          "base_uri": "https://localhost:8080/"
        },
        "id": "nmHlDPjB7cCU",
        "outputId": "c49aa439-392d-4755-8b2a-f04d1203efdf"
      },
      "execution_count": 7,
      "outputs": [
        {
          "output_type": "execute_result",
          "data": {
            "text/plain": [
              "array([0])"
            ]
          },
          "metadata": {},
          "execution_count": 7
        }
      ]
    },
    {
      "cell_type": "markdown",
      "source": [
        "### Возможные способы извлечения данных\n",
        "\n",
        "Все способы сводятся к извлечению родовых понятий + их расширению\n",
        "\n",
        "1. По названиям из метадаты выделить самые частотные 1 граммы и просмотреть их вручную - это будут названия товаров типа __консилер__, __крем__, __подводка__ и проч. Далее после этого можно собрать по 1-2 слова вокруг, и сделать это следующими методами:\n",
        "  - по ситаксическому расстоянию: вершина и зависимое(если есть), можно подключить дополнительные условия типа NE чтобы выделялись и марки тоже\n",
        "  - по линейному окну\n",
        "  \n",
        "Это можно сделать по названиям из метадаты - так будет точнее, но синт. критерий не получится применить и по текстам отзывов - так мы получим слегка измененные названия (с опечатками, например).\n",
        "\n",
        "2. Вытащить ключевые слова из отзывов через TF-IDF, который в прошлой домашке показал лучший результат, оставить только существительные - кластеризовать их векторные представления - в одном кластере должны быть названия косметических продуктов, а в других - аспекты. Оставить только один кластер, добавить шаблоны типа NOUN + NOUN, NOUN + ORG. Но неизвестно, как будут размечаться названия.\n",
        "\n",
        "3. Набрать родовых понятий способом из 1, после обучить word2vec на текстах отзывов и найти синонимы ко всем родовым понятиям, вытащить их из текстов. Так способо не особо полный, но можно потом расширить n-граммами"
      ],
      "metadata": {
        "id": "_E6WXGoIxYYt"
      }
    },
    {
      "cell_type": "markdown",
      "source": [
        "### Возьмем первый метод"
      ],
      "metadata": {
        "id": "80SsscIU9t_H"
      }
    },
    {
      "cell_type": "code",
      "source": [
        "!pip install --quiet spacy\n",
        "!spacy download en_core_web_sm"
      ],
      "metadata": {
        "colab": {
          "base_uri": "https://localhost:8080/"
        },
        "id": "aHlwxnJEApvd",
        "outputId": "29c91052-0fd5-48d9-ddd6-aeff2442c4b2"
      },
      "execution_count": 8,
      "outputs": [
        {
          "output_type": "stream",
          "name": "stdout",
          "text": [
            "/usr/local/lib/python3.8/dist-packages/torch/cuda/__init__.py:497: UserWarning: Can't initialize NVML\n",
            "  warnings.warn(\"Can't initialize NVML\")\n",
            "2022-12-13 10:50:48.702748: E tensorflow/stream_executor/cuda/cuda_driver.cc:271] failed call to cuInit: CUDA_ERROR_NO_DEVICE: no CUDA-capable device is detected\n",
            "Looking in indexes: https://pypi.org/simple, https://us-python.pkg.dev/colab-wheels/public/simple/\n",
            "Collecting en-core-web-sm==3.4.1\n",
            "  Downloading https://github.com/explosion/spacy-models/releases/download/en_core_web_sm-3.4.1/en_core_web_sm-3.4.1-py3-none-any.whl (12.8 MB)\n",
            "\u001b[K     |████████████████████████████████| 12.8 MB 4.9 MB/s \n",
            "\u001b[?25hRequirement already satisfied: spacy<3.5.0,>=3.4.0 in /usr/local/lib/python3.8/dist-packages (from en-core-web-sm==3.4.1) (3.4.3)\n",
            "Requirement already satisfied: catalogue<2.1.0,>=2.0.6 in /usr/local/lib/python3.8/dist-packages (from spacy<3.5.0,>=3.4.0->en-core-web-sm==3.4.1) (2.0.8)\n",
            "Requirement already satisfied: preshed<3.1.0,>=3.0.2 in /usr/local/lib/python3.8/dist-packages (from spacy<3.5.0,>=3.4.0->en-core-web-sm==3.4.1) (3.0.8)\n",
            "Requirement already satisfied: pydantic!=1.8,!=1.8.1,<1.11.0,>=1.7.4 in /usr/local/lib/python3.8/dist-packages (from spacy<3.5.0,>=3.4.0->en-core-web-sm==3.4.1) (1.10.2)\n",
            "Requirement already satisfied: srsly<3.0.0,>=2.4.3 in /usr/local/lib/python3.8/dist-packages (from spacy<3.5.0,>=3.4.0->en-core-web-sm==3.4.1) (2.4.5)\n",
            "Requirement already satisfied: langcodes<4.0.0,>=3.2.0 in /usr/local/lib/python3.8/dist-packages (from spacy<3.5.0,>=3.4.0->en-core-web-sm==3.4.1) (3.3.0)\n",
            "Requirement already satisfied: cymem<2.1.0,>=2.0.2 in /usr/local/lib/python3.8/dist-packages (from spacy<3.5.0,>=3.4.0->en-core-web-sm==3.4.1) (2.0.7)\n",
            "Requirement already satisfied: tqdm<5.0.0,>=4.38.0 in /usr/local/lib/python3.8/dist-packages (from spacy<3.5.0,>=3.4.0->en-core-web-sm==3.4.1) (4.64.1)\n",
            "Requirement already satisfied: requests<3.0.0,>=2.13.0 in /usr/local/lib/python3.8/dist-packages (from spacy<3.5.0,>=3.4.0->en-core-web-sm==3.4.1) (2.23.0)\n",
            "Requirement already satisfied: numpy>=1.15.0 in /usr/local/lib/python3.8/dist-packages (from spacy<3.5.0,>=3.4.0->en-core-web-sm==3.4.1) (1.21.6)\n",
            "Requirement already satisfied: jinja2 in /usr/local/lib/python3.8/dist-packages (from spacy<3.5.0,>=3.4.0->en-core-web-sm==3.4.1) (2.11.3)\n",
            "Requirement already satisfied: pathy>=0.3.5 in /usr/local/lib/python3.8/dist-packages (from spacy<3.5.0,>=3.4.0->en-core-web-sm==3.4.1) (0.10.0)\n",
            "Requirement already satisfied: spacy-loggers<2.0.0,>=1.0.0 in /usr/local/lib/python3.8/dist-packages (from spacy<3.5.0,>=3.4.0->en-core-web-sm==3.4.1) (1.0.3)\n",
            "Requirement already satisfied: packaging>=20.0 in /usr/local/lib/python3.8/dist-packages (from spacy<3.5.0,>=3.4.0->en-core-web-sm==3.4.1) (21.3)\n",
            "Requirement already satisfied: thinc<8.2.0,>=8.1.0 in /usr/local/lib/python3.8/dist-packages (from spacy<3.5.0,>=3.4.0->en-core-web-sm==3.4.1) (8.1.5)\n",
            "Requirement already satisfied: wasabi<1.1.0,>=0.9.1 in /usr/local/lib/python3.8/dist-packages (from spacy<3.5.0,>=3.4.0->en-core-web-sm==3.4.1) (0.10.1)\n",
            "Requirement already satisfied: typer<0.8.0,>=0.3.0 in /usr/local/lib/python3.8/dist-packages (from spacy<3.5.0,>=3.4.0->en-core-web-sm==3.4.1) (0.7.0)\n",
            "Requirement already satisfied: setuptools in /usr/local/lib/python3.8/dist-packages (from spacy<3.5.0,>=3.4.0->en-core-web-sm==3.4.1) (57.4.0)\n",
            "Requirement already satisfied: spacy-legacy<3.1.0,>=3.0.10 in /usr/local/lib/python3.8/dist-packages (from spacy<3.5.0,>=3.4.0->en-core-web-sm==3.4.1) (3.0.10)\n",
            "Requirement already satisfied: murmurhash<1.1.0,>=0.28.0 in /usr/local/lib/python3.8/dist-packages (from spacy<3.5.0,>=3.4.0->en-core-web-sm==3.4.1) (1.0.9)\n",
            "Requirement already satisfied: pyparsing!=3.0.5,>=2.0.2 in /usr/local/lib/python3.8/dist-packages (from packaging>=20.0->spacy<3.5.0,>=3.4.0->en-core-web-sm==3.4.1) (3.0.9)\n",
            "Requirement already satisfied: smart-open<6.0.0,>=5.2.1 in /usr/local/lib/python3.8/dist-packages (from pathy>=0.3.5->spacy<3.5.0,>=3.4.0->en-core-web-sm==3.4.1) (5.2.1)\n",
            "Requirement already satisfied: typing-extensions>=4.1.0 in /usr/local/lib/python3.8/dist-packages (from pydantic!=1.8,!=1.8.1,<1.11.0,>=1.7.4->spacy<3.5.0,>=3.4.0->en-core-web-sm==3.4.1) (4.4.0)\n",
            "Requirement already satisfied: urllib3!=1.25.0,!=1.25.1,<1.26,>=1.21.1 in /usr/local/lib/python3.8/dist-packages (from requests<3.0.0,>=2.13.0->spacy<3.5.0,>=3.4.0->en-core-web-sm==3.4.1) (1.24.3)\n",
            "Requirement already satisfied: certifi>=2017.4.17 in /usr/local/lib/python3.8/dist-packages (from requests<3.0.0,>=2.13.0->spacy<3.5.0,>=3.4.0->en-core-web-sm==3.4.1) (2022.9.24)\n",
            "Requirement already satisfied: idna<3,>=2.5 in /usr/local/lib/python3.8/dist-packages (from requests<3.0.0,>=2.13.0->spacy<3.5.0,>=3.4.0->en-core-web-sm==3.4.1) (2.10)\n",
            "Requirement already satisfied: chardet<4,>=3.0.2 in /usr/local/lib/python3.8/dist-packages (from requests<3.0.0,>=2.13.0->spacy<3.5.0,>=3.4.0->en-core-web-sm==3.4.1) (3.0.4)\n",
            "Requirement already satisfied: confection<1.0.0,>=0.0.1 in /usr/local/lib/python3.8/dist-packages (from thinc<8.2.0,>=8.1.0->spacy<3.5.0,>=3.4.0->en-core-web-sm==3.4.1) (0.0.3)\n",
            "Requirement already satisfied: blis<0.8.0,>=0.7.8 in /usr/local/lib/python3.8/dist-packages (from thinc<8.2.0,>=8.1.0->spacy<3.5.0,>=3.4.0->en-core-web-sm==3.4.1) (0.7.9)\n",
            "Requirement already satisfied: click<9.0.0,>=7.1.1 in /usr/local/lib/python3.8/dist-packages (from typer<0.8.0,>=0.3.0->spacy<3.5.0,>=3.4.0->en-core-web-sm==3.4.1) (7.1.2)\n",
            "Requirement already satisfied: MarkupSafe>=0.23 in /usr/local/lib/python3.8/dist-packages (from jinja2->spacy<3.5.0,>=3.4.0->en-core-web-sm==3.4.1) (2.0.1)\n",
            "\u001b[38;5;2m✔ Download and installation successful\u001b[0m\n",
            "You can now load the package via spacy.load('en_core_web_sm')\n"
          ]
        }
      ]
    },
    {
      "cell_type": "code",
      "source": [
        "import nltk\n",
        "nltk.download('punkt')\n",
        "nltk.download('stopwords')\n",
        "from nltk.corpus import stopwords\n",
        "import spacy\n",
        "from collections import Counter\n",
        "\n",
        "stop_words = stopwords.words('english')\n",
        "nlp = spacy.load('en_core_web_sm')"
      ],
      "metadata": {
        "colab": {
          "base_uri": "https://localhost:8080/"
        },
        "id": "mp24WRR6-Dx-",
        "outputId": "5c5b4436-7b9c-4671-83bf-50a3d78da270"
      },
      "execution_count": 9,
      "outputs": [
        {
          "output_type": "stream",
          "name": "stderr",
          "text": [
            "[nltk_data] Downloading package punkt to /root/nltk_data...\n",
            "[nltk_data]   Unzipping tokenizers/punkt.zip.\n",
            "[nltk_data] Downloading package stopwords to /root/nltk_data...\n",
            "[nltk_data]   Unzipping corpora/stopwords.zip.\n",
            "/usr/local/lib/python3.8/dist-packages/torch/cuda/__init__.py:497: UserWarning: Can't initialize NVML\n",
            "  warnings.warn(\"Can't initialize NVML\")\n"
          ]
        }
      ]
    },
    {
      "cell_type": "code",
      "source": [
        "from tqdm.auto import tqdm\n",
        "tqdm.pandas()"
      ],
      "metadata": {
        "id": "0vN83CJ4BH-j"
      },
      "execution_count": 10,
      "outputs": []
    },
    {
      "cell_type": "code",
      "source": [
        "def count_words(list_of_texts):\n",
        "\n",
        "  all_words = []\n",
        "\n",
        "  for text in tqdm(list_of_texts):\n",
        "    if type(text) == str:\n",
        "      text = nlp(text)\n",
        "\n",
        "      for token in text:\n",
        "        if token.pos_ != 'PUNCT' and token.pos_ != 'SYM' and token.text not in stop_words and token.lemma_  not in stop_words and token.pos_ == 'NOUN':\n",
        "          all_words.append(token.lemma_)\n",
        "\n",
        "  return Counter(all_words).most_common()"
      ],
      "metadata": {
        "id": "BtTliRml_eE_"
      },
      "execution_count": 11,
      "outputs": []
    },
    {
      "cell_type": "code",
      "source": [
        "#объединим саммари и текст отзыва\n",
        "df['fulltext'] = df['reviewText'] + ' ' + df['summary']\n",
        "df.head()"
      ],
      "metadata": {
        "colab": {
          "base_uri": "https://localhost:8080/",
          "height": 337
        },
        "id": "tJ3o5vbfC6Cl",
        "outputId": "38c75b68-3239-427f-a63f-a4ff5b6d1387"
      },
      "execution_count": 12,
      "outputs": [
        {
          "output_type": "execute_result",
          "data": {
            "text/plain": [
              "   overall  verified   reviewTime      reviewerID        asin  \\\n",
              "0        5      True   01 5, 2018  A2HOI48JK8838M  B00004U9V2   \n",
              "1        5      True   04 5, 2017  A1YIPEY7HX73S7  B00004U9V2   \n",
              "2        5      True  03 27, 2017  A2QCGHIJ2TCLVP  B00004U9V2   \n",
              "3        5      True  03 20, 2017  A2R4UNHFJBA6PY  B00004U9V2   \n",
              "4        5      True  02 28, 2017  A2QCGHIJ2TCLVP  B00004U9V2   \n",
              "\n",
              "                   style     reviewerName  \\\n",
              "0  {'Size:': ' 0.9 oz.'}               DB   \n",
              "1  {'Size:': ' 3.5 oz.'}            Ajaey   \n",
              "2    {'Size:': ' 250 g'}         D. Jones   \n",
              "3  {'Size:': ' 3.5 oz.'}  Amazon Customer   \n",
              "4  {'Size:': ' 0.9 oz.'}         D. Jones   \n",
              "\n",
              "                                          reviewText                 summary  \\\n",
              "0  This handcream has a beautiful fragrance. It d...     Beautiful Fragrance   \n",
              "1  wonderful hand lotion, for seriously dry skin,...   wonderful hand lotion   \n",
              "2  Best hand cream around.  Silky, thick, soaks i...  Best hand cream around   \n",
              "3                                           Thanks!!              Five Stars   \n",
              "4  Great hand lotion.  Soaks right in and leaves ...      Great hand lotion!   \n",
              "\n",
              "   unixReviewTime  vote image  \\\n",
              "0      1515110400   NaN   NaN   \n",
              "1      1491350400   NaN   NaN   \n",
              "2      1490572800   NaN   NaN   \n",
              "3      1489968000   NaN   NaN   \n",
              "4      1488240000   NaN   NaN   \n",
              "\n",
              "                                            fulltext  \n",
              "0  This handcream has a beautiful fragrance. It d...  \n",
              "1  wonderful hand lotion, for seriously dry skin,...  \n",
              "2  Best hand cream around.  Silky, thick, soaks i...  \n",
              "3                                Thanks!! Five Stars  \n",
              "4  Great hand lotion.  Soaks right in and leaves ...  "
            ],
            "text/html": [
              "\n",
              "  <div id=\"df-705d417b-931d-44ed-84a7-47bb22526558\">\n",
              "    <div class=\"colab-df-container\">\n",
              "      <div>\n",
              "<style scoped>\n",
              "    .dataframe tbody tr th:only-of-type {\n",
              "        vertical-align: middle;\n",
              "    }\n",
              "\n",
              "    .dataframe tbody tr th {\n",
              "        vertical-align: top;\n",
              "    }\n",
              "\n",
              "    .dataframe thead th {\n",
              "        text-align: right;\n",
              "    }\n",
              "</style>\n",
              "<table border=\"1\" class=\"dataframe\">\n",
              "  <thead>\n",
              "    <tr style=\"text-align: right;\">\n",
              "      <th></th>\n",
              "      <th>overall</th>\n",
              "      <th>verified</th>\n",
              "      <th>reviewTime</th>\n",
              "      <th>reviewerID</th>\n",
              "      <th>asin</th>\n",
              "      <th>style</th>\n",
              "      <th>reviewerName</th>\n",
              "      <th>reviewText</th>\n",
              "      <th>summary</th>\n",
              "      <th>unixReviewTime</th>\n",
              "      <th>vote</th>\n",
              "      <th>image</th>\n",
              "      <th>fulltext</th>\n",
              "    </tr>\n",
              "  </thead>\n",
              "  <tbody>\n",
              "    <tr>\n",
              "      <th>0</th>\n",
              "      <td>5</td>\n",
              "      <td>True</td>\n",
              "      <td>01 5, 2018</td>\n",
              "      <td>A2HOI48JK8838M</td>\n",
              "      <td>B00004U9V2</td>\n",
              "      <td>{'Size:': ' 0.9 oz.'}</td>\n",
              "      <td>DB</td>\n",
              "      <td>This handcream has a beautiful fragrance. It d...</td>\n",
              "      <td>Beautiful Fragrance</td>\n",
              "      <td>1515110400</td>\n",
              "      <td>NaN</td>\n",
              "      <td>NaN</td>\n",
              "      <td>This handcream has a beautiful fragrance. It d...</td>\n",
              "    </tr>\n",
              "    <tr>\n",
              "      <th>1</th>\n",
              "      <td>5</td>\n",
              "      <td>True</td>\n",
              "      <td>04 5, 2017</td>\n",
              "      <td>A1YIPEY7HX73S7</td>\n",
              "      <td>B00004U9V2</td>\n",
              "      <td>{'Size:': ' 3.5 oz.'}</td>\n",
              "      <td>Ajaey</td>\n",
              "      <td>wonderful hand lotion, for seriously dry skin,...</td>\n",
              "      <td>wonderful hand lotion</td>\n",
              "      <td>1491350400</td>\n",
              "      <td>NaN</td>\n",
              "      <td>NaN</td>\n",
              "      <td>wonderful hand lotion, for seriously dry skin,...</td>\n",
              "    </tr>\n",
              "    <tr>\n",
              "      <th>2</th>\n",
              "      <td>5</td>\n",
              "      <td>True</td>\n",
              "      <td>03 27, 2017</td>\n",
              "      <td>A2QCGHIJ2TCLVP</td>\n",
              "      <td>B00004U9V2</td>\n",
              "      <td>{'Size:': ' 250 g'}</td>\n",
              "      <td>D. Jones</td>\n",
              "      <td>Best hand cream around.  Silky, thick, soaks i...</td>\n",
              "      <td>Best hand cream around</td>\n",
              "      <td>1490572800</td>\n",
              "      <td>NaN</td>\n",
              "      <td>NaN</td>\n",
              "      <td>Best hand cream around.  Silky, thick, soaks i...</td>\n",
              "    </tr>\n",
              "    <tr>\n",
              "      <th>3</th>\n",
              "      <td>5</td>\n",
              "      <td>True</td>\n",
              "      <td>03 20, 2017</td>\n",
              "      <td>A2R4UNHFJBA6PY</td>\n",
              "      <td>B00004U9V2</td>\n",
              "      <td>{'Size:': ' 3.5 oz.'}</td>\n",
              "      <td>Amazon Customer</td>\n",
              "      <td>Thanks!!</td>\n",
              "      <td>Five Stars</td>\n",
              "      <td>1489968000</td>\n",
              "      <td>NaN</td>\n",
              "      <td>NaN</td>\n",
              "      <td>Thanks!! Five Stars</td>\n",
              "    </tr>\n",
              "    <tr>\n",
              "      <th>4</th>\n",
              "      <td>5</td>\n",
              "      <td>True</td>\n",
              "      <td>02 28, 2017</td>\n",
              "      <td>A2QCGHIJ2TCLVP</td>\n",
              "      <td>B00004U9V2</td>\n",
              "      <td>{'Size:': ' 0.9 oz.'}</td>\n",
              "      <td>D. Jones</td>\n",
              "      <td>Great hand lotion.  Soaks right in and leaves ...</td>\n",
              "      <td>Great hand lotion!</td>\n",
              "      <td>1488240000</td>\n",
              "      <td>NaN</td>\n",
              "      <td>NaN</td>\n",
              "      <td>Great hand lotion.  Soaks right in and leaves ...</td>\n",
              "    </tr>\n",
              "  </tbody>\n",
              "</table>\n",
              "</div>\n",
              "      <button class=\"colab-df-convert\" onclick=\"convertToInteractive('df-705d417b-931d-44ed-84a7-47bb22526558')\"\n",
              "              title=\"Convert this dataframe to an interactive table.\"\n",
              "              style=\"display:none;\">\n",
              "        \n",
              "  <svg xmlns=\"http://www.w3.org/2000/svg\" height=\"24px\"viewBox=\"0 0 24 24\"\n",
              "       width=\"24px\">\n",
              "    <path d=\"M0 0h24v24H0V0z\" fill=\"none\"/>\n",
              "    <path d=\"M18.56 5.44l.94 2.06.94-2.06 2.06-.94-2.06-.94-.94-2.06-.94 2.06-2.06.94zm-11 1L8.5 8.5l.94-2.06 2.06-.94-2.06-.94L8.5 2.5l-.94 2.06-2.06.94zm10 10l.94 2.06.94-2.06 2.06-.94-2.06-.94-.94-2.06-.94 2.06-2.06.94z\"/><path d=\"M17.41 7.96l-1.37-1.37c-.4-.4-.92-.59-1.43-.59-.52 0-1.04.2-1.43.59L10.3 9.45l-7.72 7.72c-.78.78-.78 2.05 0 2.83L4 21.41c.39.39.9.59 1.41.59.51 0 1.02-.2 1.41-.59l7.78-7.78 2.81-2.81c.8-.78.8-2.07 0-2.86zM5.41 20L4 18.59l7.72-7.72 1.47 1.35L5.41 20z\"/>\n",
              "  </svg>\n",
              "      </button>\n",
              "      \n",
              "  <style>\n",
              "    .colab-df-container {\n",
              "      display:flex;\n",
              "      flex-wrap:wrap;\n",
              "      gap: 12px;\n",
              "    }\n",
              "\n",
              "    .colab-df-convert {\n",
              "      background-color: #E8F0FE;\n",
              "      border: none;\n",
              "      border-radius: 50%;\n",
              "      cursor: pointer;\n",
              "      display: none;\n",
              "      fill: #1967D2;\n",
              "      height: 32px;\n",
              "      padding: 0 0 0 0;\n",
              "      width: 32px;\n",
              "    }\n",
              "\n",
              "    .colab-df-convert:hover {\n",
              "      background-color: #E2EBFA;\n",
              "      box-shadow: 0px 1px 2px rgba(60, 64, 67, 0.3), 0px 1px 3px 1px rgba(60, 64, 67, 0.15);\n",
              "      fill: #174EA6;\n",
              "    }\n",
              "\n",
              "    [theme=dark] .colab-df-convert {\n",
              "      background-color: #3B4455;\n",
              "      fill: #D2E3FC;\n",
              "    }\n",
              "\n",
              "    [theme=dark] .colab-df-convert:hover {\n",
              "      background-color: #434B5C;\n",
              "      box-shadow: 0px 1px 3px 1px rgba(0, 0, 0, 0.15);\n",
              "      filter: drop-shadow(0px 1px 2px rgba(0, 0, 0, 0.3));\n",
              "      fill: #FFFFFF;\n",
              "    }\n",
              "  </style>\n",
              "\n",
              "      <script>\n",
              "        const buttonEl =\n",
              "          document.querySelector('#df-705d417b-931d-44ed-84a7-47bb22526558 button.colab-df-convert');\n",
              "        buttonEl.style.display =\n",
              "          google.colab.kernel.accessAllowed ? 'block' : 'none';\n",
              "\n",
              "        async function convertToInteractive(key) {\n",
              "          const element = document.querySelector('#df-705d417b-931d-44ed-84a7-47bb22526558');\n",
              "          const dataTable =\n",
              "            await google.colab.kernel.invokeFunction('convertToInteractive',\n",
              "                                                     [key], {});\n",
              "          if (!dataTable) return;\n",
              "\n",
              "          const docLinkHtml = 'Like what you see? Visit the ' +\n",
              "            '<a target=\"_blank\" href=https://colab.research.google.com/notebooks/data_table.ipynb>data table notebook</a>'\n",
              "            + ' to learn more about interactive tables.';\n",
              "          element.innerHTML = '';\n",
              "          dataTable['output_type'] = 'display_data';\n",
              "          await google.colab.output.renderOutput(dataTable, element);\n",
              "          const docLink = document.createElement('div');\n",
              "          docLink.innerHTML = docLinkHtml;\n",
              "          element.appendChild(docLink);\n",
              "        }\n",
              "      </script>\n",
              "    </div>\n",
              "  </div>\n",
              "  "
            ]
          },
          "metadata": {},
          "execution_count": 12
        }
      ]
    },
    {
      "cell_type": "code",
      "source": [
        "#самые частотные по отзывам\n",
        "terms_by_reviews = count_words(df.fulltext.tolist())"
      ],
      "metadata": {
        "id": "-XGXQ8P9Ck6f"
      },
      "execution_count": null,
      "outputs": []
    },
    {
      "cell_type": "code",
      "source": [
        "terms_by_reviews[:20]"
      ],
      "metadata": {
        "colab": {
          "base_uri": "https://localhost:8080/"
        },
        "id": "LNrXp5tjLFgE",
        "outputId": "ef74093d-8d56-4d6c-c794-79d0892cc841"
      },
      "execution_count": 16,
      "outputs": [
        {
          "output_type": "execute_result",
          "data": {
            "text/plain": [
              "[('skin', 27827),\n",
              " ('product', 27230),\n",
              " ('color', 14662),\n",
              " ('hair', 10853),\n",
              " ('face', 9574),\n",
              " ('scent', 8893),\n",
              " ('cream', 8799),\n",
              " ('time', 7741),\n",
              " ('day', 7420),\n",
              " ('soap', 6617),\n",
              " ('star', 6569),\n",
              " ('eye', 5464),\n",
              " ('brush', 5267),\n",
              " ('bit', 4942),\n",
              " ('price', 4297),\n",
              " ('makeup', 4191),\n",
              " ('way', 3914),\n",
              " ('nail', 3887),\n",
              " ('bottle', 3775),\n",
              " ('one', 3677)]"
            ]
          },
          "metadata": {},
          "execution_count": 16
        }
      ]
    },
    {
      "cell_type": "code",
      "source": [
        "terms_by_reviews[20:50]"
      ],
      "metadata": {
        "colab": {
          "base_uri": "https://localhost:8080/"
        },
        "id": "o2xWfnizNsd-",
        "outputId": "e8e2f527-31e4-4542-bfb5-f67f6f811ca9"
      },
      "execution_count": 21,
      "outputs": [
        {
          "output_type": "execute_result",
          "data": {
            "text/plain": [
              "[('year', 3664),\n",
              " ('smell', 3660),\n",
              " ('lot', 3564),\n",
              " ('line', 3558),\n",
              " ('hand', 3448),\n",
              " ('fragrance', 3419),\n",
              " ('polish', 3404),\n",
              " ('moisturizer', 3390),\n",
              " ('foundation', 3339),\n",
              " ('week', 3266),\n",
              " ('oil', 3182),\n",
              " ('result', 3164),\n",
              " ('lotion', 2857),\n",
              " ('stuff', 2839),\n",
              " ('thing', 2769),\n",
              " ('use', 2750),\n",
              " ('powder', 2636),\n",
              " ('brand', 2625),\n",
              " ('shaving', 2617),\n",
              " ('shave', 2580),\n",
              " ('water', 2577),\n",
              " ('quality', 2575),\n",
              " ('coat', 2552),\n",
              " ('ingredient', 2462),\n",
              " ('coverage', 2447),\n",
              " ('area', 2306),\n",
              " ('shade', 2266),\n",
              " ('tube', 2264),\n",
              " ('amount', 2263),\n",
              " ('difference', 2157)]"
            ]
          },
          "metadata": {},
          "execution_count": 21
        }
      ]
    },
    {
      "cell_type": "markdown",
      "source": [
        "Кажется, получилось не очень хорошо, выделились еще и аспекты"
      ],
      "metadata": {
        "id": "AS59kNcMLjOF"
      }
    },
    {
      "cell_type": "code",
      "source": [
        "terms_by_metadata = count_words(meta.title.tolist())\n",
        "terms_by_metadata[:15]"
      ],
      "metadata": {
        "colab": {
          "base_uri": "https://localhost:8080/",
          "height": 310,
          "referenced_widgets": [
            "622aff0d4aba47cdb2a3501b799a1564",
            "8dca7d41331e4448a607e554da6a438b",
            "b057c2d69d8642069d637efda9d427cf",
            "3c9a5693e107492e8c67cd37ea3b6348",
            "2152f1d06ba24e668419409fb460505b",
            "da623ab785644f86a97524ae7d2e02f3",
            "62a8b5670f6249cc99ed954a1528db24",
            "78f60b2c7212456699052a7ceca6e402",
            "c5545eb4257041d09d887488bca39d23",
            "524f1c99f0c4490ca725fc7156fe5bd2",
            "cbd8b26c3bf2408a99766d4f5ba7a5d5"
          ]
        },
        "id": "BjM-5SzhFxZ8",
        "outputId": "c50b9bc7-2f5e-474e-ea50-690a261699c7"
      },
      "execution_count": 18,
      "outputs": [
        {
          "output_type": "display_data",
          "data": {
            "text/plain": [
              "  0%|          | 0/12299 [00:00<?, ?it/s]"
            ],
            "application/vnd.jupyter.widget-view+json": {
              "version_major": 2,
              "version_minor": 0,
              "model_id": "622aff0d4aba47cdb2a3501b799a1564"
            }
          },
          "metadata": {}
        },
        {
          "output_type": "execute_result",
          "data": {
            "text/plain": [
              "[('oz', 3249),\n",
              " ('fl', 2147),\n",
              " ('ounce', 672),\n",
              " ('|', 278),\n",
              " ('amp', 259),\n",
              " ('butter', 143),\n",
              " ('skin', 129),\n",
              " ('ritual', 120),\n",
              " ('iredale', 91),\n",
              " ('fl.oz', 78),\n",
              " ('man', 76),\n",
              " ('%', 66),\n",
              " ('count', 57),\n",
              " ('ml', 56),\n",
              " ('skincare', 51)]"
            ]
          },
          "metadata": {},
          "execution_count": 18
        }
      ]
    },
    {
      "cell_type": "code",
      "source": [
        "#были взяты самые частотные обозначеия в названиях, кажется, если посмотреть на топ-50, то там должны быть термины\n",
        "\n",
        "terms_by_metadata[:50]"
      ],
      "metadata": {
        "colab": {
          "base_uri": "https://localhost:8080/"
        },
        "id": "hvr6t0ZANZg8",
        "outputId": "f9b28d50-d994-4a0e-ff6f-53aae7d93b10"
      },
      "execution_count": 20,
      "outputs": [
        {
          "output_type": "execute_result",
          "data": {
            "text/plain": [
              "[('oz', 3249),\n",
              " ('fl', 2147),\n",
              " ('ounce', 672),\n",
              " ('|', 278),\n",
              " ('amp', 259),\n",
              " ('butter', 143),\n",
              " ('skin', 129),\n",
              " ('ritual', 120),\n",
              " ('iredale', 91),\n",
              " ('fl.oz', 78),\n",
              " ('man', 76),\n",
              " ('%', 66),\n",
              " ('count', 57),\n",
              " ('ml', 56),\n",
              " ('skincare', 51),\n",
              " ('.', 49),\n",
              " ('baxter', 47),\n",
              " ('iron', 46),\n",
              " ('pureology', 43),\n",
              " ('inch', 42),\n",
              " ('bioelement', 39),\n",
              " ('g.', 38),\n",
              " ('davine', 36),\n",
              " ('image', 35),\n",
              " ('woman', 33),\n",
              " ('item', 33),\n",
              " ('tools', 31),\n",
              " ('dermadoctor', 30),\n",
              " ('body', 30),\n",
              " ('c', 30),\n",
              " ('check', 30),\n",
              " ('qualifying', 30),\n",
              " ('travel', 29),\n",
              " ('cleansing', 28),\n",
              " ('discount', 28),\n",
              " ('dalla', 28),\n",
              " ('milk', 27),\n",
              " ('vitamin', 26),\n",
              " ('lb', 26),\n",
              " ('replenix', 26),\n",
              " ('volume', 26),\n",
              " ('set', 25),\n",
              " ('night', 25),\n",
              " ('palma', 25),\n",
              " ('in-1', 24),\n",
              " ('result', 23),\n",
              " ('pack', 23),\n",
              " ('hair', 22),\n",
              " ('system', 22),\n",
              " ('cosmetic', 22)]"
            ]
          },
          "metadata": {},
          "execution_count": 20
        }
      ]
    },
    {
      "cell_type": "code",
      "source": [
        "#ну и достанем частотные сочетания через TF-IDF (в прошлой домашке он хорошо отработал)\n",
        "\n",
        "def preprocess(text):\n",
        "  if type(text) == str:\n",
        "    text = nlp(text)\n",
        "    result = []\n",
        "\n",
        "    for token in text:\n",
        "      if token.pos_ != 'PUNCT' and token.pos_ != 'SYM' and token.text not in stop_words and token.lemma_  not in stop_words:\n",
        "        result.append(token.lemma_)\n",
        "\n",
        "    return ' '.join(result)\n",
        "  else:\n",
        "    return ''\n",
        "\n",
        "df['fulltext_processed'] = df.fulltext.apply(preprocess)\n",
        "meta['title_processed'] = meta.title.apply(preprocess) "
      ],
      "metadata": {
        "id": "qjKuGsqaIRFO"
      },
      "execution_count": 24,
      "outputs": []
    },
    {
      "cell_type": "code",
      "source": [
        "from sklearn.feature_extraction.text import CountVectorizer, TfidfTransformer\n",
        "\n",
        "count_vectorizer = CountVectorizer(stop_words=stop_words, ngram_range=(2,2))\n",
        "word_count = count_vectorizer.fit_transform(df['fulltext_processed'].to_list())\n",
        "feature_names = count_vectorizer.get_feature_names_out()"
      ],
      "metadata": {
        "id": "UPw4LFr7M_U6"
      },
      "execution_count": 27,
      "outputs": []
    },
    {
      "cell_type": "code",
      "source": [
        "vectorizer = TfidfTransformer()\n",
        "vectorizer.fit(word_count)"
      ],
      "metadata": {
        "colab": {
          "base_uri": "https://localhost:8080/"
        },
        "id": "YjSfwA0wS81f",
        "outputId": "bf86cff8-dfa4-4c57-93a0-0103ba76947a"
      },
      "execution_count": 30,
      "outputs": [
        {
          "output_type": "execute_result",
          "data": {
            "text/plain": [
              "TfidfTransformer()"
            ]
          },
          "metadata": {},
          "execution_count": 30
        }
      ]
    },
    {
      "cell_type": "code",
      "source": [
        "TOP_N_KEYWORDS = 30\n",
        "\n",
        "def sort_coo(coo_matrix):\n",
        "    \"\"\"Sort a dict with highest score\"\"\"\n",
        "    tuples = zip(coo_matrix.col, coo_matrix.data)\n",
        "    return sorted(tuples, key=lambda x: (x[1], x[0]), reverse=True)\n",
        "\n",
        "def extract_topn_from_vector(feature_names, sorted_items, topn=20):\n",
        "    \"\"\"get the feature names and tf-idf score of top n items\"\"\"\n",
        "    \n",
        "    #use only topn items from vector\n",
        "    sorted_items = sorted_items[:topn]\n",
        "\n",
        "    score_vals = []\n",
        "    feature_vals = []\n",
        "    \n",
        "    # word index and corresponding tf-idf score\n",
        "    for idx, score in sorted_items:\n",
        "        \n",
        "        #keep track of feature name and its corresponding score\n",
        "        score_vals.append(round(score, 3))\n",
        "        feature_vals.append(feature_names[idx])\n",
        "\n",
        "    #create a tuples of feature, score\n",
        "    results= {}\n",
        "    for idx in range(len(feature_vals)):\n",
        "        results[feature_vals[idx]]=score_vals[idx]\n",
        "    \n",
        "    return results\n",
        "\n",
        "def get_keywords(doc, vectorizer=vectorizer, count_vectorizer=count_vectorizer, feature_names=feature_names, TOP_K_KEYWORDS=TOP_N_KEYWORDS):\n",
        "    \"\"\"Return top k keywords from a doc using TF-IDF method\"\"\"\n",
        "\n",
        "    #generate tf-idf for the given document\n",
        "    tf_idf_vector = vectorizer.transform(count_vectorizer.transform([doc]))\n",
        "    \n",
        "    #sort the tf-idf vectors by descending order of scores\n",
        "    sorted_items=sort_coo(tf_idf_vector.tocoo())\n",
        "\n",
        "    #extract only TOP_K_KEYWORDS\n",
        "    keywords=extract_topn_from_vector(feature_names,sorted_items,TOP_K_KEYWORDS)\n",
        "    \n",
        "    return list(keywords.keys())"
      ],
      "metadata": {
        "id": "x4BL_hTyMS8c"
      },
      "execution_count": 38,
      "outputs": []
    },
    {
      "cell_type": "code",
      "source": [
        "doc = ' '.join(df.fulltext_processed.tolist())\n",
        "keywords_review = get_keywords(doc=doc)\n",
        "keywords_review"
      ],
      "metadata": {
        "colab": {
          "base_uri": "https://localhost:8080/"
        },
        "id": "DnI063SHPi04",
        "outputId": "eadf5d64-91b4-4cb9-ed8f-e0fd8216d08d"
      },
      "execution_count": 39,
      "outputs": [
        {
          "output_type": "execute_result",
          "data": {
            "text/plain": [
              "['five star',\n",
              " 'work well',\n",
              " 'sensitive skin',\n",
              " 'skin feel',\n",
              " 'dry skin',\n",
              " 'feel like',\n",
              " 'use product',\n",
              " 'really like',\n",
              " 'nail polish',\n",
              " 'last long',\n",
              " 'great product',\n",
              " 'long way',\n",
              " 'go long',\n",
              " 'leave skin',\n",
              " 'look like',\n",
              " 'long time',\n",
              " 'love color',\n",
              " 'star love',\n",
              " 'make skin',\n",
              " 'skin tone',\n",
              " 'highly recommend',\n",
              " 'smell like',\n",
              " 'work great',\n",
              " 'skin look',\n",
              " 'little go',\n",
              " 'shaving soap',\n",
              " 'product use',\n",
              " 'much well',\n",
              " 'easy apply',\n",
              " 'good product']"
            ]
          },
          "metadata": {},
          "execution_count": 39
        }
      ]
    },
    {
      "cell_type": "code",
      "source": [
        "doc = ' '.join(meta.title_processed.tolist())\n",
        "keywords_meta = get_keywords(doc=doc)\n",
        "keywords_meta"
      ],
      "metadata": {
        "colab": {
          "base_uri": "https://localhost:8080/"
        },
        "id": "7TX5TtfdWT6q",
        "outputId": "b96262f8-5c34-4487-8dfd-6008c81de6ca"
      },
      "execution_count": 40,
      "outputs": [
        {
          "output_type": "execute_result",
          "data": {
            "text/plain": [
              "['fl oz',\n",
              " 'eau de',\n",
              " 'de parfum',\n",
              " 'de toilette',\n",
              " 'cream oz',\n",
              " 'oz occitane',\n",
              " 'spray fl',\n",
              " 'cream fl',\n",
              " 'parfum spray',\n",
              " 'glo skin',\n",
              " 'nail lacquer',\n",
              " 'toilette spray',\n",
              " 'skin beauty',\n",
              " 'serum fl',\n",
              " 'nail polish',\n",
              " '10 fl',\n",
              " 'lotion fl',\n",
              " 'fluid ounce',\n",
              " '33 fl',\n",
              " 'paul mitchell',\n",
              " 'cleanser fl',\n",
              " 'body lotion',\n",
              " 'zoya nail',\n",
              " 'butter london',\n",
              " 'elizabeth arden',\n",
              " 'gift set',\n",
              " 'spray oz',\n",
              " '16 fl',\n",
              " 'mario badescu',\n",
              " 'eau thermale']"
            ]
          },
          "metadata": {},
          "execution_count": 40
        }
      ]
    },
    {
      "cell_type": "markdown",
      "source": [
        "Видмно, что в тексте отзывов в основном характеристики продукта, а в текстах названий продуктов что-то по существу. А еще видно, что stanza не очень хорошо работает с сокращениями. Итого, чтобы получить keywords здесь недостаточно таких методов, придется каждое название прогонять через ручную валидацию("
      ],
      "metadata": {
        "id": "wzpydNUjWooB"
      }
    },
    {
      "cell_type": "code",
      "source": [
        "terms_by_reviews[:50]"
      ],
      "metadata": {
        "colab": {
          "base_uri": "https://localhost:8080/"
        },
        "id": "TqQOqfffWnSJ",
        "outputId": "590e7597-1805-45ae-f1ab-e782b8a22518"
      },
      "execution_count": 45,
      "outputs": [
        {
          "output_type": "execute_result",
          "data": {
            "text/plain": [
              "[('skin', 27827),\n",
              " ('product', 27230),\n",
              " ('color', 14662),\n",
              " ('hair', 10853),\n",
              " ('face', 9574),\n",
              " ('scent', 8893),\n",
              " ('cream', 8799),\n",
              " ('time', 7741),\n",
              " ('day', 7420),\n",
              " ('soap', 6617),\n",
              " ('star', 6569),\n",
              " ('eye', 5464),\n",
              " ('brush', 5267),\n",
              " ('bit', 4942),\n",
              " ('price', 4297),\n",
              " ('makeup', 4191),\n",
              " ('way', 3914),\n",
              " ('nail', 3887),\n",
              " ('bottle', 3775),\n",
              " ('one', 3677),\n",
              " ('year', 3664),\n",
              " ('smell', 3660),\n",
              " ('lot', 3564),\n",
              " ('line', 3558),\n",
              " ('hand', 3448),\n",
              " ('fragrance', 3419),\n",
              " ('polish', 3404),\n",
              " ('moisturizer', 3390),\n",
              " ('foundation', 3339),\n",
              " ('week', 3266),\n",
              " ('oil', 3182),\n",
              " ('result', 3164),\n",
              " ('lotion', 2857),\n",
              " ('stuff', 2839),\n",
              " ('thing', 2769),\n",
              " ('use', 2750),\n",
              " ('powder', 2636),\n",
              " ('brand', 2625),\n",
              " ('shaving', 2617),\n",
              " ('shave', 2580),\n",
              " ('water', 2577),\n",
              " ('quality', 2575),\n",
              " ('coat', 2552),\n",
              " ('ingredient', 2462),\n",
              " ('coverage', 2447),\n",
              " ('area', 2306),\n",
              " ('shade', 2266),\n",
              " ('tube', 2264),\n",
              " ('amount', 2263),\n",
              " ('difference', 2157)]"
            ]
          },
          "metadata": {},
          "execution_count": 45
        }
      ]
    },
    {
      "cell_type": "code",
      "source": [
        "keywords_final = ['scent', 'cream', 'soap', 'brush', 'nail', 'fragnance', 'polish', 'moisturizer', 'foundation', 'coverage', 'powder']"
      ],
      "metadata": {
        "id": "-bYK_yHVZNyP"
      },
      "execution_count": 46,
      "outputs": []
    },
    {
      "cell_type": "code",
      "source": [
        "terms_by_metadata[:50]"
      ],
      "metadata": {
        "colab": {
          "base_uri": "https://localhost:8080/"
        },
        "id": "5oTIEQTaZ62-",
        "outputId": "09f2088b-cb5f-445d-c5d0-bbb55bbe54c1"
      },
      "execution_count": 48,
      "outputs": [
        {
          "output_type": "execute_result",
          "data": {
            "text/plain": [
              "[('oz', 3249),\n",
              " ('fl', 2147),\n",
              " ('ounce', 672),\n",
              " ('|', 278),\n",
              " ('amp', 259),\n",
              " ('butter', 143),\n",
              " ('skin', 129),\n",
              " ('ritual', 120),\n",
              " ('iredale', 91),\n",
              " ('fl.oz', 78),\n",
              " ('man', 76),\n",
              " ('%', 66),\n",
              " ('count', 57),\n",
              " ('ml', 56),\n",
              " ('skincare', 51),\n",
              " ('.', 49),\n",
              " ('baxter', 47),\n",
              " ('iron', 46),\n",
              " ('pureology', 43),\n",
              " ('inch', 42),\n",
              " ('bioelement', 39),\n",
              " ('g.', 38),\n",
              " ('davine', 36),\n",
              " ('image', 35),\n",
              " ('woman', 33),\n",
              " ('item', 33),\n",
              " ('tools', 31),\n",
              " ('dermadoctor', 30),\n",
              " ('body', 30),\n",
              " ('c', 30),\n",
              " ('check', 30),\n",
              " ('qualifying', 30),\n",
              " ('travel', 29),\n",
              " ('cleansing', 28),\n",
              " ('discount', 28),\n",
              " ('dalla', 28),\n",
              " ('milk', 27),\n",
              " ('vitamin', 26),\n",
              " ('lb', 26),\n",
              " ('replenix', 26),\n",
              " ('volume', 26),\n",
              " ('set', 25),\n",
              " ('night', 25),\n",
              " ('palma', 25),\n",
              " ('in-1', 24),\n",
              " ('result', 23),\n",
              " ('pack', 23),\n",
              " ('hair', 22),\n",
              " ('system', 22),\n",
              " ('cosmetic', 22)]"
            ]
          },
          "metadata": {},
          "execution_count": 48
        }
      ]
    },
    {
      "cell_type": "code",
      "source": [
        "#в keywords из названий очень много общих слов для названий разных категорий, а еще понятно, что большая часть из них прилагательные\n",
        "#но записываются в существительные из-за конверсии/омонимии\n",
        "keywords_final.extend(['butter', 'cosmetic'])"
      ],
      "metadata": {
        "id": "XiEy9455aA45"
      },
      "execution_count": 49,
      "outputs": []
    },
    {
      "cell_type": "code",
      "source": [
        "keywords_review"
      ],
      "metadata": {
        "colab": {
          "base_uri": "https://localhost:8080/"
        },
        "id": "OxbhJCEcagm8",
        "outputId": "49b2acee-f0a1-4b98-ad03-16bdde3b2847"
      },
      "execution_count": 51,
      "outputs": [
        {
          "output_type": "execute_result",
          "data": {
            "text/plain": [
              "['five star',\n",
              " 'work well',\n",
              " 'sensitive skin',\n",
              " 'skin feel',\n",
              " 'dry skin',\n",
              " 'feel like',\n",
              " 'use product',\n",
              " 'really like',\n",
              " 'nail polish',\n",
              " 'last long',\n",
              " 'great product',\n",
              " 'long way',\n",
              " 'go long',\n",
              " 'leave skin',\n",
              " 'look like',\n",
              " 'long time',\n",
              " 'love color',\n",
              " 'star love',\n",
              " 'make skin',\n",
              " 'skin tone',\n",
              " 'highly recommend',\n",
              " 'smell like',\n",
              " 'work great',\n",
              " 'skin look',\n",
              " 'little go',\n",
              " 'shaving soap',\n",
              " 'product use',\n",
              " 'much well',\n",
              " 'easy apply',\n",
              " 'good product']"
            ]
          },
          "metadata": {},
          "execution_count": 51
        }
      ]
    },
    {
      "cell_type": "code",
      "source": [
        "keywords_final.extend(['nail polish', 'shaving soap'])"
      ],
      "metadata": {
        "id": "q54DUp8basjU"
      },
      "execution_count": 52,
      "outputs": []
    },
    {
      "cell_type": "code",
      "source": [
        "keywords_meta"
      ],
      "metadata": {
        "colab": {
          "base_uri": "https://localhost:8080/"
        },
        "id": "2R1wW2Oxa4R1",
        "outputId": "242640c2-661e-40ff-8d4d-a003c1bc0f98"
      },
      "execution_count": 53,
      "outputs": [
        {
          "output_type": "execute_result",
          "data": {
            "text/plain": [
              "['fl oz',\n",
              " 'eau de',\n",
              " 'de parfum',\n",
              " 'de toilette',\n",
              " 'cream oz',\n",
              " 'oz occitane',\n",
              " 'spray fl',\n",
              " 'cream fl',\n",
              " 'parfum spray',\n",
              " 'glo skin',\n",
              " 'nail lacquer',\n",
              " 'toilette spray',\n",
              " 'skin beauty',\n",
              " 'serum fl',\n",
              " 'nail polish',\n",
              " '10 fl',\n",
              " 'lotion fl',\n",
              " 'fluid ounce',\n",
              " '33 fl',\n",
              " 'paul mitchell',\n",
              " 'cleanser fl',\n",
              " 'body lotion',\n",
              " 'zoya nail',\n",
              " 'butter london',\n",
              " 'elizabeth arden',\n",
              " 'gift set',\n",
              " 'spray oz',\n",
              " '16 fl',\n",
              " 'mario badescu',\n",
              " 'eau thermale']"
            ]
          },
          "metadata": {},
          "execution_count": 53
        }
      ]
    },
    {
      "cell_type": "code",
      "source": [
        "keywords_final.extend(['parfum spray', 'body lotion', 'eau thermale', 'toilette spray', 'nail lacquer'])"
      ],
      "metadata": {
        "id": "k0DqMKbna6hP"
      },
      "execution_count": 54,
      "outputs": []
    },
    {
      "cell_type": "code",
      "source": [
        "keywords_final"
      ],
      "metadata": {
        "colab": {
          "base_uri": "https://localhost:8080/"
        },
        "id": "JnuxI_63bIjU",
        "outputId": "9063162b-ae63-441d-d43b-568d1f20f0fa"
      },
      "execution_count": 55,
      "outputs": [
        {
          "output_type": "execute_result",
          "data": {
            "text/plain": [
              "['scent',\n",
              " 'cream',\n",
              " 'soap',\n",
              " 'brush',\n",
              " 'nail',\n",
              " 'fragnance',\n",
              " 'polish',\n",
              " 'moisturizer',\n",
              " 'foundation',\n",
              " 'coverage',\n",
              " 'powder',\n",
              " 'butter',\n",
              " 'cosmetic',\n",
              " 'nail polish',\n",
              " 'shaving soap',\n",
              " 'parfum spray',\n",
              " 'body lotion',\n",
              " 'eau thermale',\n",
              " 'toilette spray',\n",
              " 'nail lacquer']"
            ]
          },
          "metadata": {},
          "execution_count": 55
        }
      ]
    },
    {
      "cell_type": "markdown",
      "source": [
        "Получилось маловато, можно попробоавать обучить word2vec на отзывах и достать синонимы"
      ],
      "metadata": {
        "id": "INI63JdibfQs"
      }
    },
    {
      "cell_type": "code",
      "source": [
        "import gensim\n",
        "\n",
        "corpus = [text.split(' ') for text in df.fulltext_processed.tolist()]\n",
        "\n",
        "model = gensim.models.Word2Vec(corpus, window=2)"
      ],
      "metadata": {
        "id": "bILby_cHbnF5"
      },
      "execution_count": 57,
      "outputs": []
    },
    {
      "cell_type": "code",
      "source": [
        "model.wv.__contains__('odor')"
      ],
      "metadata": {
        "colab": {
          "base_uri": "https://localhost:8080/"
        },
        "id": "ficvCYrFeIzc",
        "outputId": "b692f177-9c83-48ac-f050-73c88965dd12"
      },
      "execution_count": 62,
      "outputs": [
        {
          "output_type": "execute_result",
          "data": {
            "text/plain": [
              "True"
            ]
          },
          "metadata": {},
          "execution_count": 62
        }
      ]
    },
    {
      "cell_type": "code",
      "source": [
        "synonyms = []\n",
        "\n",
        "for elem in keywords_final:\n",
        "  if model.wv.__contains__(elem):\n",
        "    for syn in model.wv.most_similar(elem, topn=3):\n",
        "      synonyms.append(syn[0])"
      ],
      "metadata": {
        "id": "VowXbAC2b1Pp"
      },
      "execution_count": 65,
      "outputs": []
    },
    {
      "cell_type": "code",
      "source": [
        "synonyms"
      ],
      "metadata": {
        "colab": {
          "base_uri": "https://localhost:8080/"
        },
        "id": "NqS7k0wNevFE",
        "outputId": "557cdc39-2628-4e4d-a7b5-7c6deaa4b069"
      },
      "execution_count": 66,
      "outputs": [
        {
          "output_type": "execute_result",
          "data": {
            "text/plain": [
              "['fragrance',\n",
              " 'aroma',\n",
              " 'smell',\n",
              " 'lotion',\n",
              " 'creme',\n",
              " 'serum',\n",
              " 'shower',\n",
              " 'none',\n",
              " 'micellar',\n",
              " 'sponge',\n",
              " 'bristle',\n",
              " 'wand',\n",
              " 'fingernail',\n",
              " 'toenail',\n",
              " 'manicure',\n",
              " 'shellac',\n",
              " 'vinyls',\n",
              " 'strengthener',\n",
              " 'sunscreen',\n",
              " 'serum',\n",
              " 'lotion',\n",
              " 'concealer',\n",
              " 'primer',\n",
              " 'makeup',\n",
              " 'concealer',\n",
              " 'formular',\n",
              " 'crme',\n",
              " 'foundation',\n",
              " 'bronzer',\n",
              " 'loose',\n",
              " 'shea',\n",
              " 'vera',\n",
              " 'LONDON',\n",
              " 'skincare',\n",
              " 'beauty',\n",
              " 'Sephora']"
            ]
          },
          "metadata": {},
          "execution_count": 66
        }
      ]
    },
    {
      "cell_type": "code",
      "source": [
        "synonyms.remove('Sephora')\n",
        "synonyms.remove('beauty')\n",
        "synonyms.remove('skincare')\n",
        "synonyms.remove('LONDON')\n",
        "synonyms.remove('shea')\n",
        "synonyms.remove('vera')\n",
        "synonyms.remove('loose')\n",
        "synonyms.remove('strengthener')\n",
        "synonyms.remove('none')\n",
        "synonyms.remove('bristle')\n",
        "synonyms.remove('toenail')\n",
        "synonyms.remove('fingernail')\n",
        "synonyms.remove('manicure')"
      ],
      "metadata": {
        "id": "CAkXyhVWexWC"
      },
      "execution_count": 67,
      "outputs": []
    },
    {
      "cell_type": "code",
      "source": [
        "keywords = keywords_final + synonyms\n",
        "keywords = set(keywords)"
      ],
      "metadata": {
        "id": "4MYYmyHrfutr"
      },
      "execution_count": 68,
      "outputs": []
    },
    {
      "cell_type": "markdown",
      "source": [
        "### Извлечение би- и три- грамм. Метрики."
      ],
      "metadata": {
        "id": "RjUTXP4Af3Ch"
      }
    },
    {
      "cell_type": "code",
      "source": [
        "from nltk.util import ngrams\n",
        "from nltk.collocations import *"
      ],
      "metadata": {
        "id": "n0Ac5xg7kmR3"
      },
      "execution_count": 69,
      "outputs": []
    },
    {
      "cell_type": "code",
      "source": [
        "corpus = [text for text in df.fulltext_processed.tolist()]\n",
        "\n",
        "bigrams = []\n",
        "trigrams = []\n",
        "\n",
        "for text in corpus:\n",
        "  bg = ngrams(text.split(' '), 2)\n",
        "  tg = ngrams(text.split(' '), 3)\n",
        "  for b in bg:\n",
        "    bigrams.append(b)\n",
        "  for t in tg:\n",
        "    trigrams.append(t)\n",
        "\n",
        "bigrams = Counter(bigrams).most_common()\n",
        "trigrams = Counter(trigrams).most_common()\n",
        "\n",
        "bigrams_keywords = []\n",
        "\n",
        "for elem in bigrams:\n",
        "  for word in keywords:\n",
        "    if word in elem[0]:\n",
        "      bigrams_keywords.append(elem)\n",
        "\n",
        "trigrams_keywords = []\n",
        "\n",
        "for elem in trigrams:\n",
        "  for word in keywords:\n",
        "    if ' ' in word:\n",
        "      w = word.split(' ')\n",
        "      if w[0] in elem[0] and w[1] in elem[0] and elem[0].index(w[1]) - elem[0].index(w[0]) == 1:\n",
        "        trigrams_keywords.append(elem)"
      ],
      "metadata": {
        "id": "-sEOeXe6i_yI"
      },
      "execution_count": 81,
      "outputs": []
    },
    {
      "cell_type": "code",
      "source": [
        "bigram_measures = nltk.collocations.BigramAssocMeasures()\n",
        "trigram_measures = nltk.collocations.TrigramAssocMeasures()"
      ],
      "metadata": {
        "id": "QnYC-UmvnZCA"
      },
      "execution_count": 82,
      "outputs": []
    },
    {
      "cell_type": "code",
      "source": [
        "bigram_finder = nltk.collocations.BigramCollocationFinder.from_documents([text.split(' ') for text in df.fulltext_processed.tolist()])\n",
        "trigram_finder = nltk.collocations.TrigramCollocationFinder.from_documents([text.split(' ') for text in df.fulltext_processed.tolist()])\n",
        "\n",
        "bigram_finder.apply_freq_filter(5)\n",
        "trigram_finder.apply_freq_filter(5)"
      ],
      "metadata": {
        "id": "obAGg_MYmmR7"
      },
      "execution_count": 92,
      "outputs": []
    },
    {
      "cell_type": "markdown",
      "source": [
        "Насколько я поняла - ранжировать нужно собранные n-gramm'ы"
      ],
      "metadata": {
        "id": "ftOYV2WcxkTf"
      }
    },
    {
      "cell_type": "code",
      "source": [
        "metrics_dict = {elem[0]: {'pmi': 0, 'chi-sq': 0, 't-score': 0} for elem in bigrams_keywords + trigrams_keywords}"
      ],
      "metadata": {
        "id": "qbqBlEb8xRmr"
      },
      "execution_count": 121,
      "outputs": []
    },
    {
      "cell_type": "code",
      "source": [
        "bigrams_pmi = bigram_finder.score_ngrams(bigram_measures.pmi)\n",
        "trigrams_pmi = bigram_finder.score_ngrams(trigram_measures.pmi)\n",
        "\n",
        "for elem in bigrams_pmi + trigrams_pmi:\n",
        "  if elem[0] in metrics_dict:\n",
        "    metrics_dict[elem[0]]['pmi'] = elem[1]"
      ],
      "metadata": {
        "id": "WReSB2KWqtkY"
      },
      "execution_count": 122,
      "outputs": []
    },
    {
      "cell_type": "code",
      "source": [
        "bigrams_chi = bigram_finder.score_ngrams(bigram_measures.chi_sq)\n",
        "trigrams_chi = trigram_finder.score_ngrams(trigram_measures.chi_sq)\n",
        "\n",
        "for elem in bigrams_chi + trigrams_chi:\n",
        "  if elem[0] in metrics_dict:\n",
        "    metrics_dict[elem[0]]['chi-sq'] = elem[1]"
      ],
      "metadata": {
        "id": "Oxs9QTkGvZNQ"
      },
      "execution_count": 126,
      "outputs": []
    },
    {
      "cell_type": "code",
      "source": [
        "bigrams_t = bigram_finder.score_ngrams(bigram_measures.student_t)\n",
        "trigrams_t = trigram_finder.score_ngrams(trigram_measures.student_t)\n",
        "\n",
        "for elem in bigrams_t + trigrams_t:\n",
        "  if elem[0] in metrics_dict:\n",
        "    metrics_dict[elem[0]]['t-score'] = elem[1]"
      ],
      "metadata": {
        "id": "9BBx_GqwzR_p"
      },
      "execution_count": 127,
      "outputs": []
    },
    {
      "cell_type": "code",
      "source": [
        "def ranking_by_metric(metric):\n",
        "  print(metric.upper())\n",
        "  res = sorted(metrics_dict.items(), key=lambda x: x[1][metric], reverse=True)\n",
        "  for elem in res[:20]:\n",
        "    print(' '.join(elem[0]) + '\\t\\t' + str(elem[1][metric]))"
      ],
      "metadata": {
        "id": "Mw3C2c8lzywh"
      },
      "execution_count": 136,
      "outputs": []
    },
    {
      "cell_type": "code",
      "source": [
        "ranking_by_metric('pmi')"
      ],
      "metadata": {
        "colab": {
          "base_uri": "https://localhost:8080/"
        },
        "id": "mSPvZHEczy4e",
        "outputId": "094a7d63-20cb-43fa-b2c9-52deae0800df"
      },
      "execution_count": 137,
      "outputs": [
        {
          "output_type": "stream",
          "name": "stdout",
          "text": [
            "PMI\n",
            "butter LONDON\t\t32.924184751516194\n",
            "shea butter\t\t32.88074133732618\n",
            "butter london\t\t32.82716029712133\n",
            "vinyls true\t\t32.627356482874575\n",
            "cocoa butter\t\t32.232213707827555\n",
            "bronzer clutch\t\t31.04983696533898\n",
            "Shea butter\t\t30.957744406931475\n",
            "creme jelly\t\t30.86999649503159\n",
            "A&C serum\t\t30.81048808975688\n",
            "formular coverage\t\t30.557320713382424\n",
            "cosmetic industry\t\t30.468256383150997\n",
            "crme basis\t\t30.449753177593166\n",
            "calamine lotion\t\t30.332404773751886\n",
            "micellar water\t\t30.115009863916825\n",
            "foundation NW20\t\t30.10691806054625\n",
            "semblance coverage\t\t30.097889094745128\n",
            "butter London\t\t30.057179645727157\n",
            "micronized powder\t\t30.02735010192897\n",
            "sponge blender\t\t29.990280120658525\n",
            "talcum powder\t\t29.956960774037576\n"
          ]
        }
      ]
    },
    {
      "cell_type": "code",
      "source": [
        "ranking_by_metric('chi-sq')"
      ],
      "metadata": {
        "colab": {
          "base_uri": "https://localhost:8080/"
        },
        "id": "h9H7eDPIzqrf",
        "outputId": "115353c7-186d-487f-906a-98d81e76c8f8"
      },
      "execution_count": 138,
      "outputs": [
        {
          "output_type": "stream",
          "name": "stdout",
          "text": [
            "CHI-SQ\n",
            "shaving soap watch\t\t6980449.98158303\n",
            "shaving soap switch\t\t5451994.586013803\n",
            "Essie nail polish\t\t3565549.51133625\n",
            "nail polish dissapointed\t\t2072792.5682738486\n",
            "nail lacquer Butter\t\t1563038.197974233\n",
            "Butter nail lacquer\t\t1563038.197974233\n",
            "Candy nail polish\t\t1022586.6894973235\n",
            "shaving soap clean\t\t896415.3242926947\n",
            "buying nail polish\t\t703904.2879542449\n",
            "nail polish chip\t\t566828.8226979682\n",
            "ESSIE nail polish\t\t542494.4312796942\n",
            "shea butter\t\t514598.7090653592\n",
            "fave nail polish\t\t447740.3617215205\n",
            "nail polish fingernail\t\t444429.17154192046\n",
            "use shaving soap\t\t414400.1707922015\n",
            "nail polish online\t\t381500.12896700006\n",
            "Shellac nail polish\t\t351979.0365565429\n",
            "nail polish remover\t\t344842.0604021128\n",
            "durable nail polish\t\t335078.49254838825\n",
            "really shaving soap\t\t334367.7459983484\n"
          ]
        }
      ]
    },
    {
      "cell_type": "code",
      "source": [
        "ranking_by_metric('t-score')"
      ],
      "metadata": {
        "colab": {
          "base_uri": "https://localhost:8080/"
        },
        "id": "GMgmbnDh1guf",
        "outputId": "9ce75134-f638-4b08-e32a-fa1f55d07bfc"
      },
      "execution_count": 139,
      "outputs": [
        {
          "output_type": "stream",
          "name": "stdout",
          "text": [
            "T-SCORE\n",
            "nail polish\t\t35.06293472740961\n",
            "smell like\t\t28.66534571649918\n",
            "shaving soap\t\t25.53961062644698\n",
            "cream tube\t\t21.985175141294068\n",
            "hand cream\t\t21.867454557476513\n",
            "eye cream\t\t21.72196688722665\n",
            "shave cream\t\t18.945749181979338\n",
            "smell great\t\t18.69111691876308\n",
            "soap cream\t\t18.096207544005008\n",
            "night cream\t\t18.08780870363047\n",
            "light scent\t\t17.395535915166782\n",
            "smell good\t\t17.093904054736974\n",
            "shaving brush\t\t16.69024349146262\n",
            "full coverage\t\t16.663777557514656\n",
            "eye makeup\t\t16.36852095922552\n",
            "makeup remover\t\t16.326184857852247\n",
            "shaving cream\t\t16.08974879920619\n",
            "brush soft\t\t15.892915104803903\n",
            "remove makeup\t\t15.804269646859245\n",
            "brush head\t\t15.777481300757305\n"
          ]
        }
      ]
    },
    {
      "cell_type": "markdown",
      "source": [
        "Кажется, что все справляются не очень, но t-score делает что-то качественно иное по сравнению с PMI и chi-square - достаются не коллокации с названиями, а что-то похожее на характеристики."
      ],
      "metadata": {
        "id": "UHMJwf682SQa"
      }
    },
    {
      "cell_type": "markdown",
      "source": [
        "### Вывод 5 категорий"
      ],
      "metadata": {
        "id": "yYZUQm-T2vu3"
      }
    },
    {
      "cell_type": "code",
      "source": [
        "import random\n",
        "\n",
        "five_goods = random.sample(keywords, 5)\n",
        "five_goods"
      ],
      "metadata": {
        "colab": {
          "base_uri": "https://localhost:8080/"
        },
        "id": "LE7-mt3T2RVA",
        "outputId": "504d4f06-908b-4d81-815b-a0851f30fd54"
      },
      "execution_count": 142,
      "outputs": [
        {
          "output_type": "execute_result",
          "data": {
            "text/plain": [
              "['cream', 'shellac', 'smell', 'serum', 'moisturizer']"
            ]
          },
          "metadata": {},
          "execution_count": 142
        }
      ]
    },
    {
      "cell_type": "code",
      "source": [
        "five_goods = {item: [] for item in five_goods}\n",
        "\n",
        "tscore_sorted = sorted(metrics_dict.items(), key=lambda x: x[1]['t-score'], reverse=True)\n",
        "\n",
        "for elem in tscore_sorted:\n",
        "  for item in five_goods:\n",
        "    if item in elem[0] and len(five_goods[item]) < 10:\n",
        "      five_goods[item].append(' '.join(elem[0]))\n",
        "\n",
        "df_final = pd.DataFrame(five_goods)\n",
        "df_final"
      ],
      "metadata": {
        "colab": {
          "base_uri": "https://localhost:8080/",
          "height": 363
        },
        "id": "fBScZvBR3W05",
        "outputId": "f4eab1ea-0809-4b15-b9a4-c3d00c31daf0"
      },
      "execution_count": 144,
      "outputs": [
        {
          "output_type": "execute_result",
          "data": {
            "text/plain": [
              "           cream          shellac          smell              serum  \\\n",
              "0     cream tube    shellac color     smell like          use serum   \n",
              "1     hand cream      CND shellac    smell great            C serum   \n",
              "2      eye cream     shellac nail     smell good  serum moisturizer   \n",
              "3    shave cream     love shellac     smell nice            c serum   \n",
              "4     soap cream     like shellac     like smell         like serum   \n",
              "5    night cream     pink shellac   citrus smell        apply serum   \n",
              "6  shaving cream   shellac polish     love smell         serum make   \n",
              "7    stiff cream  shellac product  smell amazing  moisturizer serum   \n",
              "8     face cream   shellac system   lotion smell         love serum   \n",
              "9     cream come     shellac home    smell quite        cream serum   \n",
              "\n",
              "             moisturizer  \n",
              "0      apply moisturizer  \n",
              "1     tinted moisturizer  \n",
              "2        use moisturizer  \n",
              "3       good moisturizer  \n",
              "4     facial moisturizer  \n",
              "5          moisturizer I  \n",
              "6  moisturizer sunscreen  \n",
              "7      serum moisturizer  \n",
              "8      great moisturizer  \n",
              "9      daily moisturizer  "
            ],
            "text/html": [
              "\n",
              "  <div id=\"df-dfb09754-15d2-4712-b115-cd4895d34383\">\n",
              "    <div class=\"colab-df-container\">\n",
              "      <div>\n",
              "<style scoped>\n",
              "    .dataframe tbody tr th:only-of-type {\n",
              "        vertical-align: middle;\n",
              "    }\n",
              "\n",
              "    .dataframe tbody tr th {\n",
              "        vertical-align: top;\n",
              "    }\n",
              "\n",
              "    .dataframe thead th {\n",
              "        text-align: right;\n",
              "    }\n",
              "</style>\n",
              "<table border=\"1\" class=\"dataframe\">\n",
              "  <thead>\n",
              "    <tr style=\"text-align: right;\">\n",
              "      <th></th>\n",
              "      <th>cream</th>\n",
              "      <th>shellac</th>\n",
              "      <th>smell</th>\n",
              "      <th>serum</th>\n",
              "      <th>moisturizer</th>\n",
              "    </tr>\n",
              "  </thead>\n",
              "  <tbody>\n",
              "    <tr>\n",
              "      <th>0</th>\n",
              "      <td>cream tube</td>\n",
              "      <td>shellac color</td>\n",
              "      <td>smell like</td>\n",
              "      <td>use serum</td>\n",
              "      <td>apply moisturizer</td>\n",
              "    </tr>\n",
              "    <tr>\n",
              "      <th>1</th>\n",
              "      <td>hand cream</td>\n",
              "      <td>CND shellac</td>\n",
              "      <td>smell great</td>\n",
              "      <td>C serum</td>\n",
              "      <td>tinted moisturizer</td>\n",
              "    </tr>\n",
              "    <tr>\n",
              "      <th>2</th>\n",
              "      <td>eye cream</td>\n",
              "      <td>shellac nail</td>\n",
              "      <td>smell good</td>\n",
              "      <td>serum moisturizer</td>\n",
              "      <td>use moisturizer</td>\n",
              "    </tr>\n",
              "    <tr>\n",
              "      <th>3</th>\n",
              "      <td>shave cream</td>\n",
              "      <td>love shellac</td>\n",
              "      <td>smell nice</td>\n",
              "      <td>c serum</td>\n",
              "      <td>good moisturizer</td>\n",
              "    </tr>\n",
              "    <tr>\n",
              "      <th>4</th>\n",
              "      <td>soap cream</td>\n",
              "      <td>like shellac</td>\n",
              "      <td>like smell</td>\n",
              "      <td>like serum</td>\n",
              "      <td>facial moisturizer</td>\n",
              "    </tr>\n",
              "    <tr>\n",
              "      <th>5</th>\n",
              "      <td>night cream</td>\n",
              "      <td>pink shellac</td>\n",
              "      <td>citrus smell</td>\n",
              "      <td>apply serum</td>\n",
              "      <td>moisturizer I</td>\n",
              "    </tr>\n",
              "    <tr>\n",
              "      <th>6</th>\n",
              "      <td>shaving cream</td>\n",
              "      <td>shellac polish</td>\n",
              "      <td>love smell</td>\n",
              "      <td>serum make</td>\n",
              "      <td>moisturizer sunscreen</td>\n",
              "    </tr>\n",
              "    <tr>\n",
              "      <th>7</th>\n",
              "      <td>stiff cream</td>\n",
              "      <td>shellac product</td>\n",
              "      <td>smell amazing</td>\n",
              "      <td>moisturizer serum</td>\n",
              "      <td>serum moisturizer</td>\n",
              "    </tr>\n",
              "    <tr>\n",
              "      <th>8</th>\n",
              "      <td>face cream</td>\n",
              "      <td>shellac system</td>\n",
              "      <td>lotion smell</td>\n",
              "      <td>love serum</td>\n",
              "      <td>great moisturizer</td>\n",
              "    </tr>\n",
              "    <tr>\n",
              "      <th>9</th>\n",
              "      <td>cream come</td>\n",
              "      <td>shellac home</td>\n",
              "      <td>smell quite</td>\n",
              "      <td>cream serum</td>\n",
              "      <td>daily moisturizer</td>\n",
              "    </tr>\n",
              "  </tbody>\n",
              "</table>\n",
              "</div>\n",
              "      <button class=\"colab-df-convert\" onclick=\"convertToInteractive('df-dfb09754-15d2-4712-b115-cd4895d34383')\"\n",
              "              title=\"Convert this dataframe to an interactive table.\"\n",
              "              style=\"display:none;\">\n",
              "        \n",
              "  <svg xmlns=\"http://www.w3.org/2000/svg\" height=\"24px\"viewBox=\"0 0 24 24\"\n",
              "       width=\"24px\">\n",
              "    <path d=\"M0 0h24v24H0V0z\" fill=\"none\"/>\n",
              "    <path d=\"M18.56 5.44l.94 2.06.94-2.06 2.06-.94-2.06-.94-.94-2.06-.94 2.06-2.06.94zm-11 1L8.5 8.5l.94-2.06 2.06-.94-2.06-.94L8.5 2.5l-.94 2.06-2.06.94zm10 10l.94 2.06.94-2.06 2.06-.94-2.06-.94-.94-2.06-.94 2.06-2.06.94z\"/><path d=\"M17.41 7.96l-1.37-1.37c-.4-.4-.92-.59-1.43-.59-.52 0-1.04.2-1.43.59L10.3 9.45l-7.72 7.72c-.78.78-.78 2.05 0 2.83L4 21.41c.39.39.9.59 1.41.59.51 0 1.02-.2 1.41-.59l7.78-7.78 2.81-2.81c.8-.78.8-2.07 0-2.86zM5.41 20L4 18.59l7.72-7.72 1.47 1.35L5.41 20z\"/>\n",
              "  </svg>\n",
              "      </button>\n",
              "      \n",
              "  <style>\n",
              "    .colab-df-container {\n",
              "      display:flex;\n",
              "      flex-wrap:wrap;\n",
              "      gap: 12px;\n",
              "    }\n",
              "\n",
              "    .colab-df-convert {\n",
              "      background-color: #E8F0FE;\n",
              "      border: none;\n",
              "      border-radius: 50%;\n",
              "      cursor: pointer;\n",
              "      display: none;\n",
              "      fill: #1967D2;\n",
              "      height: 32px;\n",
              "      padding: 0 0 0 0;\n",
              "      width: 32px;\n",
              "    }\n",
              "\n",
              "    .colab-df-convert:hover {\n",
              "      background-color: #E2EBFA;\n",
              "      box-shadow: 0px 1px 2px rgba(60, 64, 67, 0.3), 0px 1px 3px 1px rgba(60, 64, 67, 0.15);\n",
              "      fill: #174EA6;\n",
              "    }\n",
              "\n",
              "    [theme=dark] .colab-df-convert {\n",
              "      background-color: #3B4455;\n",
              "      fill: #D2E3FC;\n",
              "    }\n",
              "\n",
              "    [theme=dark] .colab-df-convert:hover {\n",
              "      background-color: #434B5C;\n",
              "      box-shadow: 0px 1px 3px 1px rgba(0, 0, 0, 0.15);\n",
              "      filter: drop-shadow(0px 1px 2px rgba(0, 0, 0, 0.3));\n",
              "      fill: #FFFFFF;\n",
              "    }\n",
              "  </style>\n",
              "\n",
              "      <script>\n",
              "        const buttonEl =\n",
              "          document.querySelector('#df-dfb09754-15d2-4712-b115-cd4895d34383 button.colab-df-convert');\n",
              "        buttonEl.style.display =\n",
              "          google.colab.kernel.accessAllowed ? 'block' : 'none';\n",
              "\n",
              "        async function convertToInteractive(key) {\n",
              "          const element = document.querySelector('#df-dfb09754-15d2-4712-b115-cd4895d34383');\n",
              "          const dataTable =\n",
              "            await google.colab.kernel.invokeFunction('convertToInteractive',\n",
              "                                                     [key], {});\n",
              "          if (!dataTable) return;\n",
              "\n",
              "          const docLinkHtml = 'Like what you see? Visit the ' +\n",
              "            '<a target=\"_blank\" href=https://colab.research.google.com/notebooks/data_table.ipynb>data table notebook</a>'\n",
              "            + ' to learn more about interactive tables.';\n",
              "          element.innerHTML = '';\n",
              "          dataTable['output_type'] = 'display_data';\n",
              "          await google.colab.output.renderOutput(dataTable, element);\n",
              "          const docLink = document.createElement('div');\n",
              "          docLink.innerHTML = docLinkHtml;\n",
              "          element.appendChild(docLink);\n",
              "        }\n",
              "      </script>\n",
              "    </div>\n",
              "  </div>\n",
              "  "
            ]
          },
          "metadata": {},
          "execution_count": 144
        }
      ]
    },
    {
      "cell_type": "markdown",
      "source": [
        "Я не могу нормально проанализировать результаты, так как не знаю, с какой целью нужен этот отчет. Если мы с помощью коллокационных метрик ищем расширения категорий, то все хорошо - у нас здесь получились разные виды кремов, шеллака и увлажняющего крема. Если ищем характеристики - то это странный способ и лучше всего сделать sentiment анализ для конкретных категорий или нужно более обширно выделить товары типа face cream, night cream и прочее и запретить коллокациям, связанным с товарами выводиться как характеристикам - это расширит возможные наборы.\n"
      ],
      "metadata": {
        "id": "ObXcCA8c4uV3"
      }
    }
  ]
}